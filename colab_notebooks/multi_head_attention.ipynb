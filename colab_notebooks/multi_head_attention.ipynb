{
  "cells": [
    {
      "cell_type": "code",
      "execution_count": null,
      "metadata": {
        "colab": {
          "base_uri": "https://localhost:8080/"
        },
        "id": "6W2CHUD0rGD7",
        "outputId": "508327d8-c8b6-43eb-b406-f3b5544a1b01"
      },
      "outputs": [
        {
          "output_type": "stream",
          "name": "stdout",
          "text": [
            "Mounted at content\n"
          ]
        }
      ],
      "source": [
        "from google.colab import drive\n",
        "drive.mount('content')"
      ]
    },
    {
      "cell_type": "code",
      "execution_count": null,
      "metadata": {
        "colab": {
          "base_uri": "https://localhost:8080/"
        },
        "id": "3vLgTzA_pR1A",
        "outputId": "20e931f6-db3e-415d-eb1b-2d8350df36ec"
      },
      "outputs": [
        {
          "output_type": "stream",
          "name": "stderr",
          "text": [
            "/usr/local/lib/python3.10/dist-packages/dask/dataframe/__init__.py:42: FutureWarning: \n",
            "Dask dataframe query planning is disabled because dask-expr is not installed.\n",
            "\n",
            "You can install it with `pip install dask[dataframe]` or `conda install dask`.\n",
            "This will raise in a future version.\n",
            "\n",
            "  warnings.warn(msg, FutureWarning)\n"
          ]
        }
      ],
      "source": [
        "import numpy as np # linear algebra\n",
        "import pandas as pd # data processing, CSV file I/O (e.g. pd.read_csv)\n",
        "import polars as pl\n",
        "import lightgbm as lgb\n",
        "from sklearn.model_selection import KFold, train_test_split\n",
        "from sklearn.metrics import mean_absolute_error\n",
        "import pickle, time, logging, glob, pathlib, random\n",
        "from sklearn.metrics import r2_score\n",
        "import torch, math\n",
        "from torch.utils.data import  Dataset, DataLoader\n",
        "from functools import lru_cache\n",
        "import matplotlib.pyplot as plt\n",
        "from tqdm import tqdm\n",
        "import torch.nn as nn\n",
        "\n",
        "root = pathlib.Path(f\"/content/content/MyDrive/Kaggle Competitions/Jane Street/train.npy\")\n",
        "def get_paths(nums: list) -> list:\n",
        "    return [root/f\"symbol={i}/window=4/part-0.npz\" for i in nums]\n",
        "\n",
        "train_paths = get_paths(range(36))\n",
        "val_paths = get_paths(range(36,38))\n",
        "final_path = get_paths([38])"
      ]
    },
    {
      "cell_type": "code",
      "execution_count": null,
      "metadata": {
        "id": "dCZuoAg6rbST"
      },
      "outputs": [],
      "source": [
        "cfg = {\n",
        "    \"device\": torch.device(\"cuda\" if torch.cuda.is_available() else \"cpu\"),\n",
        "    \"window\": 4,\n",
        "    \"batch_size\":96,\n",
        "    \"shuffle\":False,\n",
        "    \"dim\": np.load(train_paths[0], allow_pickle=True)[\"data\"].shape[-1],\n",
        "    \"drop_last\":True,\n",
        "    \"num_workers\":1,\n",
        "    \"frac\": None,\n",
        "    \"pin_memory\": True,\n",
        "    \"prefetch_factor\":2,\n",
        "    \"persistent_workers\":True\n",
        "}"
      ]
    },
    {
      "cell_type": "code",
      "execution_count": null,
      "metadata": {
        "colab": {
          "base_uri": "https://localhost:8080/"
        },
        "id": "TUSwbA2mrkEi",
        "outputId": "0b260b98-c014-4681-9d73-9efa752d82a3"
      },
      "outputs": [
        {
          "output_type": "execute_result",
          "data": {
            "text/plain": [
              "{'device': device(type='cpu'),\n",
              " 'window': 4,\n",
              " 'batch_size': 96,\n",
              " 'shuffle': False,\n",
              " 'dim': 46,\n",
              " 'drop_last': True,\n",
              " 'num_workers': 1,\n",
              " 'frac': None,\n",
              " 'pin_memory': True,\n",
              " 'prefetch_factor': 2,\n",
              " 'persistent_workers': True}"
            ]
          },
          "metadata": {},
          "execution_count": 4
        }
      ],
      "source": [
        "cfg"
      ]
    },
    {
      "cell_type": "code",
      "execution_count": null,
      "metadata": {
        "id": "JkUAIBB-rbDO"
      },
      "outputs": [],
      "source": [
        "class JaneStreetDatasetV1(Dataset):\n",
        "    def __init__(self, paths, cfg):\n",
        "        self.file_mappings = []\n",
        "        self.total_rows = 0\n",
        "        self.frac = cfg[\"frac\"]\n",
        "\n",
        "\n",
        "        for path in tqdm(paths, desc=\"Processing financial instruments\"):\n",
        "            data = np.load(path,allow_pickle=True)[\"target\"]\n",
        "            size = int(data.shape[0] * self.frac) if self.frac else data.shape[0]\n",
        "            self.file_mappings.append((path, self.total_rows, self.total_rows + size)) # Map cumulative row count to file path\n",
        "            self.total_rows += size\n",
        "\n",
        "\n",
        "    @lru_cache(maxsize = 10)\n",
        "    def load_file(self, path_name):\n",
        "        train_npy = np.load(path_name, allow_pickle=True, mmap_mode=\"r\")\n",
        "        return train_npy[\"data\"], train_npy[\"target\"]\n",
        "\n",
        "    def __len__(self):\n",
        "        return self.total_rows\n",
        "\n",
        "    def __getitem__(self, idx):\n",
        "        for path, offset, sum_k in self.file_mappings:\n",
        "            if idx < sum_k:\n",
        "                size = idx - offset\n",
        "                data, targets = self.load_file(path)\n",
        "                return (\n",
        "                    torch.tensor(data[size], dtype=torch.float32),\n",
        "                    torch.tensor(targets[size], dtype=torch.float32).unsqueeze(0)\n",
        "                )"
      ]
    },
    {
      "cell_type": "code",
      "execution_count": null,
      "metadata": {
        "id": "dWXfsNjArqks"
      },
      "outputs": [],
      "source": [
        "def create_dataloader_v1(paths, cfg):\n",
        "    dataset = JaneStreetDatasetV1(paths, cfg)\n",
        "    dataloader = DataLoader(dataset=dataset,\n",
        "                            batch_size=cfg[\"batch_size\"],\n",
        "                            shuffle=cfg[\"shuffle\"],\n",
        "                            drop_last=cfg[\"drop_last\"],\n",
        "                            num_workers=cfg[\"num_workers\"]\n",
        "                           )\n",
        "\n",
        "    return dataloader"
      ]
    },
    {
      "cell_type": "code",
      "execution_count": null,
      "metadata": {
        "id": "XLLtO9q0rqX1"
      },
      "outputs": [],
      "source": [
        "def init_weights(m):\n",
        "    if isinstance(m, torch.nn.Linear):\n",
        "      torch.nn.init.xavier_uniform_(m.weight) #torch.nn.init.normal_(m.weight, mean=0.0, std=1/math.sqrt(6))\n",
        "      if m.bias is not None:\n",
        "        nn.init.constant_(m.bias, 0)\n",
        "    elif isinstance(m, torch.nn.Embedding):\n",
        "        torch.nn.init.xavier_uniform_(m.weight) #torch.nn.init.normal_(m.weight, mean=0.0, std=1/math.sqrt(6))\n",
        "\n",
        "class MultiHeadMaskAttention(torch.nn.Module):\n",
        "    def __init__(self, dim_in, dim_out, num_heads, window, bias, num_layers):\n",
        "        super().__init__()\n",
        "        self.num_heads = num_heads\n",
        "        self.qk_scale = 1/math.sqrt(6)\n",
        "        self.pos_emb = torch.nn.Embedding(window, dim_in)\n",
        "        self.W_query = torch.nn.Linear(dim_in, dim_out*num_heads, bias=bias)\n",
        "        self.W_key = torch.nn.Linear(dim_in, dim_out*num_heads, bias=bias)\n",
        "        self.W_value = torch.nn.Linear(dim_in, dim_out*num_heads, bias=bias)\n",
        "        self.out_proj = torch.nn.Linear(dim_out, dim_out)\n",
        "        self.softmax = torch.nn.Softmax(dim=-1)\n",
        "        self.register_buffer(\n",
        "            \"mask\",\n",
        "            torch.triu(torch.ones(window,window), diagonal=1).bool()\n",
        "        )\n",
        "\n",
        "    def forward(self, inp):\n",
        "        batch, window, emb = inp.shape\n",
        "        pos_emb = self.pos_emb(torch.arange(window, device=inp.device))\n",
        "\n",
        "        queries = self.W_query(inp) / self.qk_scale\n",
        "        keys = self.W_key(inp) / self.qk_scale\n",
        "        values = self.W_value(inp)\n",
        "\n",
        "        keys = keys.view(batch, window, self.num_heads, emb)\n",
        "        queries = queries.view(batch, window, self.num_heads, emb)\n",
        "        values = values.view(batch, window, self.num_heads, emb)\n",
        "\n",
        "        keys = keys.transpose(1,2)\n",
        "        queries = queries.transpose(1,2)\n",
        "        values = values.transpose(1,2) + pos_emb\n",
        "\n",
        "        attn_scores = queries @ keys.mT\n",
        "        attn_scores = attn_scores.masked_fill(self.mask, -torch.inf)\n",
        "        attn_weights = self.softmax(attn_scores / keys.shape[-1]**0.5)\n",
        "        context_vectors = (attn_weights @ values).transpose(1,2).mean(dim=-2)\n",
        "        return self.out_proj(context_vectors)/0.01\n",
        "\n",
        "class LayerNorm(torch.nn.Module):\n",
        "    def __init__(self, dim):\n",
        "        super().__init__()\n",
        "        self.eps = 1e-5\n",
        "        self.shift = torch.nn.Parameter(torch.zeros(dim))\n",
        "        self.scale = torch.nn.Parameter(torch.ones(dim))\n",
        "\n",
        "    def forward(self, inp):\n",
        "        mean = inp.mean(dim=-1, keepdim=True)\n",
        "        var = inp.var(dim=-1, keepdim=True, unbiased=False)\n",
        "        inp_norm = (inp - mean)/(torch.sqrt(var)+self.eps)\n",
        "\n",
        "        return inp_norm + self.shift * self.scale\n",
        "\n",
        "class FeedForwardLayer(torch.nn.Module):\n",
        "    def __init__(self, cfg):\n",
        "        super().__init__()\n",
        "        self.layer = torch.nn.Sequential(\n",
        "            torch.nn.Linear(cfg[\"n_features\"], cfg[\"n_features\"] * cfg[\"window\"]),\n",
        "            torch.nn.LeakyReLU(), #torch.nn.GELU(approximate=\"tanh\"),\n",
        "            torch.nn.Linear(cfg[\"n_features\"] * cfg[\"window\"], cfg[\"n_features\"]),\n",
        "        )\n",
        "\n",
        "\n",
        "    def forward(self, inp):\n",
        "        return self.layer(inp)\n",
        "\n",
        "class TransformerBlock(torch.nn.Module):\n",
        "    def __init__(self, cfg):\n",
        "        super().__init__()\n",
        "\n",
        "        self.attention = MultiHeadMaskAttention(dim_in=cfg[\"n_features\"], dim_out=cfg[\"n_features\"], num_heads=cfg[\"num_heads\"],\n",
        "                                                window=cfg[\"window\"], bias=cfg[\"qkv_bias\"], num_layers=cfg[\"n_layers\"])\n",
        "        self.forward_layer = FeedForwardLayer(cfg)\n",
        "        self.norm1 = LayerNorm(cfg[\"n_features\"])\n",
        "        self.norm2 = LayerNorm(cfg[\"n_features\"])\n",
        "        self.dropout = torch.nn.Dropout(cfg[\"drop_rate\"])\n",
        "\n",
        "    def forward(self, inp):\n",
        "        shortcut = inp\n",
        "        inp = self.norm1(inp)\n",
        "        inp = self.attention(inp)\n",
        "        inp = inp + shortcut\n",
        "\n",
        "        shortcut = inp\n",
        "        inp = self.norm2(inp)\n",
        "        inp = self.forward_layer(inp)\n",
        "        out = self.dropout(inp)\n",
        "        return out + shortcut"
      ]
    },
    {
      "cell_type": "code",
      "execution_count": null,
      "metadata": {
        "id": "6jerPQUirxUZ"
      },
      "outputs": [],
      "source": [
        "class JaneStreetModelV1(torch.nn.Module):\n",
        "    def __init__(self, cfg):\n",
        "        super().__init__()\n",
        "        self.blocks = torch.nn.Sequential(\n",
        "            *[TransformerBlock(cfg) for _ in range(cfg[\"n_layers\"])]\n",
        "        )\n",
        "        self.norm =  LayerNorm(cfg[\"n_features\"])\n",
        "        self.final_norm = LayerNorm(cfg[\"n_features\"])\n",
        "        self.out_proj = torch.nn.Linear(cfg[\"n_features\"], 1, bias=False)\n",
        "\n",
        "    def forward(self, inp):\n",
        "        inp = self.blocks(self.norm(inp))\n",
        "        inp = inp.mean(dim=1)/0.1\n",
        "        inp = self.final_norm(inp)\n",
        "\n",
        "        return self.out_proj(inp)"
      ]
    },
    {
      "cell_type": "code",
      "execution_count": null,
      "metadata": {
        "id": "EjhnUV25rxJI"
      },
      "outputs": [],
      "source": [
        "MODEL_CONFIG = {\n",
        "    \"n_features\": cfg[\"dim\"],\n",
        "    \"window\": cfg[\"window\"],\n",
        "    \"num_heads\": 3,\n",
        "    \"n_layers\": 3,\n",
        "    \"drop_rate\": 0.05,\n",
        "    \"qkv_bias\": False\n",
        "}"
      ]
    },
    {
      "cell_type": "code",
      "execution_count": null,
      "metadata": {
        "id": "jXQ0Mb-Lr6V-"
      },
      "outputs": [],
      "source": [
        "def calc_loss_batch(inp, targets, device):\n",
        "    inp = inp.to(device)\n",
        "    targets = targets.to(device)\n",
        "    outputs = model(inp)\n",
        "    loss = torch.nn.functional.l1_loss(outputs, targets)\n",
        "\n",
        "    return loss.item(), outputs\n",
        "\n",
        "def evaluate_model(val_loader, num_batch, device, choices):\n",
        "    total_loss = 0\n",
        "    for i, (inp, targets) in enumerate(val_loader):\n",
        "        if i < num_batch:\n",
        "            with torch.no_grad():\n",
        "                loss, outputs = calc_loss_batch(\n",
        "                    inp=inp, targets=targets, device=device\n",
        "                )\n",
        "            total_loss += loss\n",
        "        else:\n",
        "            break\n",
        "    outputs = outputs.flatten().detach().cpu().numpy()\n",
        "    targets = targets.flatten().detach().cpu().numpy()\n",
        "    print(f\"Sample predictions range: (max:{max(outputs)}, min:{min(outputs)}) - Targets range: (max:{max(targets)}, min:{min(targets)})\")\n",
        "    return total_loss/num_batch\n",
        "\n",
        "def train_epoch(train_loader, device, freq, choices, global_step,\n",
        "                half_loops, start_lr, min_lr):\n",
        "    last_loss, running_loss = 0., 0.\n",
        "    time_step = 0.\n",
        "    scores = []\n",
        "    total_len = len(train_loader)\n",
        "\n",
        "    for batch, (input_batch, targets_batch) in enumerate(train_loader):\n",
        "        #compute time per step\n",
        "        start_time = time.time()\n",
        "        #transfer data to device\n",
        "        input_batch = input_batch.to(device)\n",
        "        targets_batch = targets_batch.to(device)\n",
        "        #zero gradients for every batch\n",
        "        optimizer.zero_grad()\n",
        "        global_step += 1\n",
        "        if global_step <= half_loops:\n",
        "            # Apply cosine decay to halfway point\n",
        "            optimizer.param_groups[0][\"lr\"] = min_lr + 0.5 * (start_lr - min_lr) * (1 + math.cos(math.pi * global_step / half_loops))\n",
        "        else:\n",
        "            # Maintain the minimum learning rate beyond halfway point\n",
        "            optimizer.param_groups[0][\"lr\"] = min_lr\n",
        "        outputs = model(input_batch)\n",
        "        loss = torch.nn.functional.smooth_l1_loss(outputs, targets_batch)\n",
        "        loss.backward()\n",
        "        optimizer.step()\n",
        "        time_step += time.time() - start_time\n",
        "\n",
        "        running_loss += loss.item()\n",
        "        if batch % freq == freq-1:\n",
        "            last_loss = running_loss / freq\n",
        "            print(f\"Batch {batch}/{total_len} - {time_step/freq:.3f}s/step - loss: {last_loss} - lr: {optimizer.param_groups[0]['lr']}\")\n",
        "            # print(f\"Model prediction: {outputs[choices].flatten().detach().cpu().numpy()} - Target: {targets_batch[choices].flatten().cpu().numpy()} \")\n",
        "            running_loss = 0.\n",
        "            time_step = 0.\n",
        "            scores.append(last_loss)\n",
        "\n",
        "    return np.mean(scores), global_step\n",
        "\n",
        "def train_model(epochs, train_loader, freq, device, frac=4, min_lr=5e-4, num_batch=None, val_loader=None):\n",
        "\n",
        "    global_step = -1\n",
        "    total_loops = len(train_loader) * epochs\n",
        "    half_loops = total_loops // frac\n",
        "    start_lr = optimizer.param_groups[0][\"lr\"]\n",
        "    history = {\"loss\": []}\n",
        "\n",
        "    choices = random.choices(range(cfg[\"batch_size\"]-10),k=3)\n",
        "    for i in range(epochs):\n",
        "        print(f\"Epoch {i+1}/{epochs}\")\n",
        "        #set model to training mode\n",
        "        model.train(True)\n",
        "        #train model\n",
        "        avg_loss, global_step = train_epoch(\n",
        "            train_loader=train_loader, device=device, freq=freq, choices=choices,\n",
        "            global_step=global_step, half_loops=half_loops, start_lr=start_lr, min_lr=min_lr\n",
        "        )\n",
        "\n",
        "        if val_loader:\n",
        "            model.eval()\n",
        "            avg_vloss = evaluate_model(\n",
        "                val_loader=val_loader, num_batch=num_batch, choices=choices, device=device\n",
        "            )\n",
        "            history[\"val_loss\"] = history.get('val_loss', []) + [avg_vloss]\n",
        "            print(f\"train loss: {avg_loss} - val loss: {avg_vloss}\")\n",
        "        else:\n",
        "            print(f\"train loss: {avg_loss}\")\n",
        "        history[\"loss\"].append(avg_loss)\n",
        "\n",
        "    return history"
      ]
    },
    {
      "cell_type": "code",
      "execution_count": null,
      "metadata": {
        "colab": {
          "base_uri": "https://localhost:8080/"
        },
        "id": "6ZfPBtZbsB8Q",
        "outputId": "f1e413ae-d05f-4f49-cddf-8bb42d12408d"
      },
      "outputs": [
        {
          "name": "stderr",
          "output_type": "stream",
          "text": [
            "Processing financial instruments: 100%|██████████| 5/5 [00:04<00:00,  1.08it/s]\n",
            "Processing financial instruments: 100%|██████████| 2/2 [00:02<00:00,  1.11s/it]\n"
          ]
        },
        {
          "name": "stdout",
          "output_type": "stream",
          "text": [
            "Epoch 1/5\n",
            "Batch 2209/4421 - 0.035s/step - loss: 0.2545481935946262 - lr: 0.00488513757315797\n",
            "Batch 4419/4421 - 0.036s/step - loss: 0.38147347425932393 - lr: 0.004551582483117778\n",
            "Sample predictions range: (max:-0.00341998552903533, min:-0.006085380911827087) - Targets range: (max:1.2034406661987305, min:-1.0122123956680298)\n",
            "train loss: 0.31801083392697505 - val loss: 0.5340727542857393\n",
            "Epoch 2/5\n",
            "Batch 2209/4421 - 0.035s/step - loss: 0.2506855375348375 - lr: 0.004031700611044629\n",
            "Batch 4419/4421 - 0.037s/step - loss: 0.3814535473469156 - lr: 0.0033768251850288464\n",
            "Sample predictions range: (max:-0.007286215666681528, min:-0.008221397176384926) - Targets range: (max:1.2034406661987305, min:-1.0122123956680298)\n",
            "train loss: 0.3160695424408766 - val loss: 0.5339539300494889\n",
            "Epoch 3/5\n",
            "Batch 2209/4421 - 0.035s/step - loss: 0.25057738341846214 - lr: 0.002650500977788737\n",
            "Batch 4419/4421 - 0.037s/step - loss: 0.3813405615264946 - lr: 0.001924445370138327\n",
            "Sample predictions range: (max:-0.013797318562865257, min:-0.0157603956758976) - Targets range: (max:1.2034406661987305, min:-1.0122123956680298)\n",
            "train loss: 0.3159589724724784 - val loss: 0.5337039881100337\n",
            "Epoch 4/5\n",
            "Batch 2209/4421 - 0.036s/step - loss: 0.2505063456051237 - lr: 0.0012691099880451568\n",
            "Batch 4419/4421 - 0.038s/step - loss: 0.3810361582208509 - lr: 0.0007492027631601178\n",
            "Sample predictions range: (max:-0.015103058889508247, min:-0.04132167622447014) - Targets range: (max:1.2034406661987305, min:-1.0122123956680298)\n",
            "train loss: 0.31577125191298727 - val loss: 0.5332577225974915\n",
            "Epoch 5/5\n",
            "Batch 2209/4421 - 0.035s/step - loss: 0.2503204260173157 - lr: 0.00041517204814307785\n",
            "Batch 4419/4421 - 0.041s/step - loss: 0.3805813100601955 - lr: 0.00030000009493285934\n",
            "Sample predictions range: (max:0.009704208932816982, min:-0.11591854691505432) - Targets range: (max:1.2034406661987305, min:-1.0122123956680298)\n",
            "train loss: 0.3154508680387556 - val loss: 0.5328340532518265\n",
            "Epochs(5): Train error: 0.3162523 - Validation Error: 0.5335645\n",
            "\n"
          ]
        },
        {
          "name": "stderr",
          "output_type": "stream",
          "text": [
            "Processing financial instruments: 100%|██████████| 5/5 [00:00<00:00, 13.25it/s]\n",
            "Processing financial instruments: 100%|██████████| 2/2 [00:00<00:00, 13.51it/s]"
          ]
        },
        {
          "name": "stdout",
          "output_type": "stream",
          "text": [
            "Epoch 1/5\n"
          ]
        },
        {
          "name": "stderr",
          "output_type": "stream",
          "text": [
            "\n"
          ]
        },
        {
          "name": "stdout",
          "output_type": "stream",
          "text": [
            "Batch 2558/5119 - 0.038s/step - loss: 0.2559424183100692 - lr: 0.00488511647689525\n",
            "Batch 5117/5119 - 0.036s/step - loss: 0.3366503575909555 - lr: 0.004551528966603078\n",
            "Sample predictions range: (max:-0.006639842409640551, min:-0.010103779844939709) - Targets range: (max:1.5578693151474, min:-4.6940083503723145)\n",
            "train loss: 0.2962963879505124 - val loss: 0.5806525873983298\n",
            "Epoch 2/5\n",
            "Batch 2558/5119 - 0.037s/step - loss: 0.25307040393586155 - lr: 0.004031645354500546\n",
            "Batch 5117/5119 - 0.036s/step - loss: 0.3365946966227058 - lr: 0.0033767385693650605\n",
            "Sample predictions range: (max:0.00089742720592767, min:-0.0007873655995354056) - Targets range: (max:1.5578693151474, min:-4.6940083503723145)\n",
            "train loss: 0.2948325502792837 - val loss: 0.5809542647309963\n",
            "Epoch 3/5\n",
            "Batch 2558/5119 - 0.036s/step - loss: 0.25301727171839533 - lr: 0.0026504326670850303\n",
            "Batch 5117/5119 - 0.039s/step - loss: 0.3362157031489393 - lr: 0.0019243587395650623\n",
            "Sample predictions range: (max:-0.011556566692888737, min:-0.01843799464404583) - Targets range: (max:1.5578693151474, min:-4.6940083503723145)\n",
            "train loss: 0.2946164874336673 - val loss: 0.580345731637894\n",
            "Epoch 4/5\n",
            "Batch 2558/5119 - 0.037s/step - loss: 0.25278356024903004 - lr: 0.0012690547155488464\n",
            "Batch 5117/5119 - 0.041s/step - loss: 0.3358801300382666 - lr: 0.0007491492076118966\n",
            "Sample predictions range: (max:-0.012793769128620625, min:-0.06276696920394897) - Targets range: (max:1.5578693151474, min:-4.6940083503723145)\n",
            "train loss: 0.2943318451436483 - val loss: 0.5795270091434863\n",
            "Epoch 5/5\n",
            "Batch 2558/5119 - 0.039s/step - loss: 0.25254176350983004 - lr: 0.0004151509260691122\n",
            "Batch 5117/5119 - 0.042s/step - loss: 0.3354662789838718 - lr: 0.00030000007080881614\n",
            "Sample predictions range: (max:-0.0012068218784406781, min:-0.10046427696943283) - Targets range: (max:1.5578693151474, min:-4.6940083503723145)\n",
            "train loss: 0.29400402124685093 - val loss: 0.5790491433522253\n",
            "Epochs(5): Train error: 0.2948163 - Validation Error: 0.5801057\n",
            "\n"
          ]
        },
        {
          "name": "stderr",
          "output_type": "stream",
          "text": [
            "Processing financial instruments: 100%|██████████| 6/6 [00:00<00:00, 14.05it/s]\n",
            "Processing financial instruments: 100%|██████████| 1/1 [00:00<00:00, 11.13it/s]"
          ]
        },
        {
          "name": "stdout",
          "output_type": "stream",
          "text": [
            "Epoch 1/5\n"
          ]
        },
        {
          "name": "stderr",
          "output_type": "stream",
          "text": [
            "\n"
          ]
        },
        {
          "name": "stdout",
          "output_type": "stream",
          "text": [
            "Batch 2837/5676 - 0.037s/step - loss: 0.22417045235200678 - lr: 0.004885063186949006\n",
            "Batch 5675/5676 - 0.039s/step - loss: 0.36122365075460855 - lr: 0.004551342830956885\n",
            "Sample predictions range: (max:-0.008484546095132828, min:-0.010225275531411171) - Targets range: (max:0.8303977847099304, min:-0.7144448757171631)\n",
            "train loss: 0.29269705155330766 - val loss: 0.606285085883534\n",
            "Epoch 2/5\n",
            "Batch 2837/5676 - 0.036s/step - loss: 0.22112427730558912 - lr: 0.004031505791236233\n",
            "Batch 5675/5676 - 0.041s/step - loss: 0.36370811583224877 - lr: 0.0033764373391525376\n",
            "Sample predictions range: (max:0.00876784697175026, min:0.002491069259122014) - Targets range: (max:0.8303977847099304, min:-0.7144448757171631)\n",
            "train loss: 0.29241619656891893 - val loss: 0.6072362927074957\n",
            "Epoch 3/5\n",
            "Batch 2837/5676 - 0.039s/step - loss: 0.22095738487548527 - lr: 0.002650260138926035\n",
            "Batch 5675/5676 - 0.042s/step - loss: 0.3611097828136564 - lr: 0.0019240574744889567\n",
            "Sample predictions range: (max:-0.014833947643637657, min:-0.02083025686442852) - Targets range: (max:0.8303977847099304, min:-0.7144448757171631)\n",
            "train loss: 0.29103358384457084 - val loss: 0.605729950827013\n",
            "Epoch 4/5\n",
            "Batch 2837/5676 - 0.038s/step - loss: 0.22060180995058742 - lr: 0.0012689151223878883\n",
            "Batch 5675/5676 - 0.041s/step - loss: 0.3606166002984468 - lr: 0.0007489629806916563\n",
            "Sample predictions range: (max:-0.022925965487957, min:-0.04232216626405716) - Targets range: (max:0.8303977847099304, min:-0.7144448757171631)\n",
            "train loss: 0.2906092051245171 - val loss: 0.6050799499148304\n",
            "Epoch 5/5\n",
            "Batch 2837/5676 - 0.039s/step - loss: 0.22028087795360266 - lr: 0.00041509758774908005\n",
            "Batch 5675/5676 - 0.041s/step - loss: 0.3604253758200516 - lr: 0.00030000001439835347\n",
            "Sample predictions range: (max:-0.026899410411715508, min:-0.058809518814086914) - Targets range: (max:0.8303977847099304, min:-0.7144448757171631)\n",
            "train loss: 0.29035312688682713 - val loss: 0.6048386539287359\n",
            "Epochs(5): Train error: 0.2914218 - Validation Error: 0.6058340\n",
            "\n"
          ]
        },
        {
          "name": "stderr",
          "output_type": "stream",
          "text": [
            "Processing financial instruments: 100%|██████████| 6/6 [00:00<00:00, 13.45it/s]\n",
            "Processing financial instruments: 100%|██████████| 1/1 [00:00<00:00, 14.73it/s]"
          ]
        },
        {
          "name": "stdout",
          "output_type": "stream",
          "text": [
            "Epoch 1/5\n"
          ]
        },
        {
          "name": "stderr",
          "output_type": "stream",
          "text": [
            "\n"
          ]
        },
        {
          "name": "stdout",
          "output_type": "stream",
          "text": [
            "Batch 3015/6032 - 0.036s/step - loss: 0.2312524796246467 - lr: 0.004885058444171489\n",
            "Batch 6031/6032 - 0.037s/step - loss: 0.3474502969889553 - lr: 0.004551333808008568\n",
            "Sample predictions range: (max:-0.007993243634700775, min:-0.009339410811662674) - Targets range: (max:1.450810432434082, min:-0.8637974858283997)\n",
            "train loss: 0.289351388306801 - val loss: 0.6319116662075652\n",
            "Epoch 2/5\n",
            "Batch 3015/6032 - 0.037s/step - loss: 0.22833862914120165 - lr: 0.004031493371346167\n",
            "Batch 6031/6032 - 0.038s/step - loss: 0.34738532726224314 - lr: 0.0033764227380660965\n",
            "Sample predictions range: (max:-0.002404403407126665, min:-0.002631224226206541) - Targets range: (max:1.450810432434082, min:-0.8637974858283997)\n",
            "train loss: 0.2878619782017224 - val loss: 0.6323774733351254\n",
            "Epoch 3/5\n",
            "Batch 3015/6032 - 0.035s/step - loss: 0.22829289943942013 - lr: 0.0026502447858992896\n",
            "Batch 6031/6032 - 0.043s/step - loss: 0.3473515155517054 - lr: 0.001924042872383137\n",
            "Sample predictions range: (max:-0.003308307845145464, min:-0.013660882599651814) - Targets range: (max:1.450810432434082, min:-0.8637974858283997)\n",
            "train loss: 0.28782220749556275 - val loss: 0.6318169259608942\n",
            "Epoch 4/5\n",
            "Batch 3015/6032 - 0.044s/step - loss: 0.228130922888082 - lr: 0.0012689027005588513\n",
            "Batch 6031/6032 - 0.044s/step - loss: 0.34686116812490075 - lr: 0.0007489539550745751\n",
            "Sample predictions range: (max:-0.011449992656707764, min:-0.05182420089840889) - Targets range: (max:1.450810432434082, min:-0.8637974858283997)\n",
            "train loss: 0.2874960455064914 - val loss: 0.6302596255967755\n",
            "Epoch 5/5\n",
            "Batch 3015/6032 - 0.043s/step - loss: 0.22780296410710626 - lr: 0.0004150928418342396\n",
            "Batch 6031/6032 - 0.044s/step - loss: 0.3463266772818344 - lr: 0.0003000000127489652\n",
            "Sample predictions range: (max:3.0252616852521896e-05, min:-0.058650221675634384) - Targets range: (max:1.450810432434082, min:-0.8637974858283997)\n",
            "train loss: 0.28706482069447037 - val loss: 0.6301937105554863\n",
            "Epochs(5): Train error: 0.2879193 - Validation Error: 0.6313119\n",
            "\n"
          ]
        },
        {
          "name": "stderr",
          "output_type": "stream",
          "text": [
            "Processing financial instruments: 100%|██████████| 6/6 [00:00<00:00, 12.44it/s]\n",
            "Processing financial instruments: 100%|██████████| 1/1 [00:00<00:00, 24.63it/s]"
          ]
        },
        {
          "name": "stdout",
          "output_type": "stream",
          "text": [
            "Epoch 1/5\n"
          ]
        },
        {
          "name": "stderr",
          "output_type": "stream",
          "text": [
            "\n"
          ]
        },
        {
          "name": "stdout",
          "output_type": "stream",
          "text": [
            "Batch 3200/6403 - 0.037s/step - loss: 0.2331970735023631 - lr: 0.004885089679272566\n",
            "Batch 6401/6403 - 0.037s/step - loss: 0.3348811641897016 - lr: 0.004551460989798385\n",
            "Sample predictions range: (max:3.6458688555285335e-05, min:-1.14112608571304e-05) - Targets range: (max:3.601442337036133, min:-1.8865545988082886)\n",
            "train loss: 0.28403911884603233 - val loss: 0.761033482893511\n",
            "Epoch 2/5\n",
            "Batch 3200/6403 - 0.036s/step - loss: 0.23044301495517544 - lr: 0.0040315751700752064\n",
            "Batch 6401/6403 - 0.037s/step - loss: 0.33465669590104646 - lr: 0.003376628555033307\n",
            "Sample predictions range: (max:-0.0020819923374801874, min:-0.002214689739048481) - Targets range: (max:3.601442337036133, min:-1.8865545988082886)\n",
            "train loss: 0.28254985542811095 - val loss: 0.7609244714141594\n",
            "Epoch 3/5\n",
            "Batch 3200/6403 - 0.037s/step - loss: 0.23039532989765127 - lr: 0.002650345903922034\n",
            "Batch 6401/6403 - 0.039s/step - loss: 0.3345287607113404 - lr: 0.0019242487094417293\n",
            "Sample predictions range: (max:-0.0016351587837561965, min:-0.0044851405546069145) - Targets range: (max:3.601442337036133, min:-1.8865545988082886)\n",
            "train loss: 0.2824620453044958 - val loss: 0.7608019982140752\n",
            "Epoch 4/5\n",
            "Batch 3200/6403 - 0.040s/step - loss: 0.23023547627810378 - lr: 0.0012689845142274869\n",
            "Batch 6401/6403 - 0.041s/step - loss: 0.3342712948169188 - lr: 0.0007490811894643103\n",
            "Sample predictions range: (max:0.016899671405553818, min:-0.014297112822532654) - Targets range: (max:3.601442337036133, min:-1.8865545988082886)\n",
            "train loss: 0.2822533855475113 - val loss: 0.7602943277722023\n",
            "Epoch 5/5\n",
            "Batch 3200/6403 - 0.040s/step - loss: 0.22999074982516457 - lr: 0.0004151241011080932\n",
            "Batch 6401/6403 - 0.041s/step - loss: 0.33368951170270295 - lr: 0.0003000000452575029\n",
            "Sample predictions range: (max:0.024679500609636307, min:-0.035970695316791534) - Targets range: (max:3.601442337036133, min:-1.8865545988082886)\n",
            "train loss: 0.28184013076393377 - val loss: 0.7596686562351253\n",
            "Epochs(5): Train error: 0.2826289 - Validation Error: 0.7605446\n",
            "\n",
            "KFold Cross Validation: 5 - Mean Train error: 0.2937426 - Mean Validation error: 0.6213168\n"
          ]
        }
      ],
      "source": [
        "cfg[\"frac\"] = 0.08\n",
        "folds = 5\n",
        "kfold = KFold(n_splits=folds, random_state=123, shuffle=True)\n",
        "paths = np.array(train_paths[:7])\n",
        "historys = {\"val_loss\": [], \"loss\": [], \"val_score\":[], \"score\":[]}\n",
        "for train_path, test_path in kfold.split(paths):\n",
        "    train = create_dataloader_v1(paths[train_path], cfg)\n",
        "    test = create_dataloader_v1(paths[test_path], cfg)\n",
        "\n",
        "    torch.manual_seed(11) #11 #32\n",
        "    model = JaneStreetModelV1(MODEL_CONFIG)\n",
        "    # model.apply(init_weights)\n",
        "    model.to(cfg[\"device\"])\n",
        "    optimizer = torch.optim.AdamW(\n",
        "        model.parameters(), lr=5e-3, weight_decay=1e-4\n",
        "    )\n",
        "    num_epochs = 5\n",
        "    history = train_model(epochs=num_epochs, train_loader=train, val_loader=test, frac=1, freq=len(train)//2, min_lr=3e-4,\n",
        "                          num_batch=len(test), device=cfg[\"device\"])\n",
        "\n",
        "    print(f'Epochs({num_epochs}): Train error: {np.mean(history[\"loss\"]):.7f} - Validation Error: {np.mean(history[\"val_loss\"]):.7f}')\n",
        "    print()\n",
        "    historys[\"val_score\"].append(history[\"val_loss\"][-1])\n",
        "    historys[\"score\"].append(history[\"loss\"][-1])\n",
        "    historys[\"val_loss\"].append(history[\"val_loss\"])\n",
        "    historys[\"loss\"].append(history[\"loss\"])\n",
        "\n",
        "print(f\"\"\"KFold Cross Validation: {folds} - Mean Train error: {np.mean(historys[\"score\"]):.7f} - Mean Validation error: {np.mean(historys[\"val_score\"]):.7f}\"\"\")"
      ]
    },
    {
      "cell_type": "code",
      "execution_count": null,
      "metadata": {
        "colab": {
          "base_uri": "https://localhost:8080/"
        },
        "id": "XoowpddKUWgo",
        "outputId": "3a14607a-9e3e-4468-bee7-8a23a7ccdd8b"
      },
      "outputs": [
        {
          "data": {
            "text/plain": [
              "{'n_features': 46,\n",
              " 'window': 4,\n",
              " 'num_heads': 3,\n",
              " 'n_layers': 3,\n",
              " 'drop_rate': 0.05,\n",
              " 'qkv_bias': False}"
            ]
          },
          "execution_count": 12,
          "metadata": {},
          "output_type": "execute_result"
        }
      ],
      "source": [
        "MODEL_CONFIG"
      ]
    },
    {
      "cell_type": "code",
      "execution_count": null,
      "metadata": {
        "colab": {
          "base_uri": "https://localhost:8080/"
        },
        "id": "uROjP4o1r3ft",
        "outputId": "d7409e30-cd3e-4dc7-f886-c07176784943"
      },
      "outputs": [
        {
          "name": "stdout",
          "output_type": "stream",
          "text": [
            "blocks.0.attention.pos_emb.weight: grad_mean=-8.265970791399013e-06, grad_std=0.0001389835524605587\n",
            "blocks.0.attention.W_query.weight: grad_mean=-2.3790528658196308e-08, grad_std=1.7131170579887112e-06\n",
            "blocks.0.attention.W_key.weight: grad_mean=-1.014370269096336e-13, grad_std=1.5595928744005505e-06\n",
            "blocks.0.attention.W_value.weight: grad_mean=-6.68343943743821e-07, grad_std=0.00013701216084882617\n",
            "blocks.0.attention.out_proj.weight: grad_mean=4.401335524338579e-13, grad_std=0.00014564768935088068\n",
            "blocks.0.forward_layer.layer.0.weight: grad_mean=-4.199257386261479e-09, grad_std=6.109228252171306e-07\n",
            "blocks.0.forward_layer.layer.2.weight: grad_mean=-1.8699913145736602e-11, grad_std=7.4220054102625e-07\n",
            "blocks.1.attention.pos_emb.weight: grad_mean=-1.0443160363138304e-06, grad_std=2.4589877284597605e-05\n",
            "blocks.1.attention.W_query.weight: grad_mean=-3.2039128294858443e-11, grad_std=1.324795988466576e-07\n",
            "blocks.1.attention.W_key.weight: grad_mean=3.7376250369442615e-14, grad_std=2.8822307740483666e-07\n",
            "blocks.1.attention.W_value.weight: grad_mean=-7.770394461203978e-08, grad_std=3.134806684101932e-05\n",
            "blocks.1.attention.out_proj.weight: grad_mean=2.2006677621692894e-13, grad_std=0.0002461503609083593\n",
            "blocks.1.forward_layer.layer.0.weight: grad_mean=-1.4361853573063854e-07, grad_std=1.0917416375377798e-06\n",
            "blocks.1.forward_layer.layer.2.weight: grad_mean=-3.078388033372903e-08, grad_std=0.0001347468642052263\n",
            "blocks.2.attention.pos_emb.weight: grad_mean=1.3827041129843565e-06, grad_std=9.63987440627534e-06\n",
            "blocks.2.attention.W_query.weight: grad_mean=-1.6829749815983064e-09, grad_std=1.6120483792292362e-07\n",
            "blocks.2.attention.W_key.weight: grad_mean=6.59054143995353e-15, grad_std=2.8107101002206036e-07\n",
            "blocks.2.attention.W_value.weight: grad_mean=1.3894675987558003e-07, grad_std=6.191392913024174e-06\n",
            "blocks.2.attention.out_proj.weight: grad_mean=2.7508347704742475e-13, grad_std=6.512346590170637e-05\n",
            "blocks.2.forward_layer.layer.0.weight: grad_mean=-1.512458140950912e-07, grad_std=1.1742358765332028e-06\n",
            "blocks.2.forward_layer.layer.2.weight: grad_mean=2.5916355284039128e-08, grad_std=5.859116208739579e-05\n",
            "out_proj.weight: grad_mean=-0.002195750828832388, grad_std=0.011389658786356449\n"
          ]
        }
      ],
      "source": [
        "def log_gradients(model):\n",
        "    for name, param in model.named_parameters():\n",
        "        if param.grad is not None and \"weight\" in name:\n",
        "            print(f\"{name}: grad_mean={param.grad.mean().item()}, grad_std={param.grad.std().item()}\")\n",
        "\n",
        "log_gradients(model)"
      ]
    },
    {
      "cell_type": "code",
      "execution_count": null,
      "metadata": {
        "colab": {
          "base_uri": "https://localhost:8080/",
          "height": 778
        },
        "id": "-QJEyGnFsJVT",
        "outputId": "edcac128-7127-42e4-910f-e4f27b3b4591"
      },
      "outputs": [
        {
          "data": {
            "image/png": "[encoded data removed]",
            "text/plain": [
              "<Figure size 1300x800 with 6 Axes>"
            ]
          },
          "metadata": {},
          "output_type": "display_data"
        }
      ],
      "source": [
        "def plot_losses(epochs, train_loss, val_loss):\n",
        "    plots = len(train_loss)  # Number of distinct plots\n",
        "    rows, cols = 2, 3  # Define grid dimensions (2 rows, 3 columns)\n",
        "\n",
        "    fig, axes = plt.subplots(figsize=(13, 8), nrows=rows, ncols=cols, sharex=True)\n",
        "    axes = axes.flatten()  # Flatten the axes array for easier indexing\n",
        "    for i in range(plots):\n",
        "        # axes[i].plot(range(epochs), train_loss[i], label=\"Training loss\", c=\"b\")\n",
        "        axes[i].plot(range(epochs), val_loss[i], linestyle=\"-.\", label=\"Validation loss\", c=\"r\")\n",
        "        axes[i].set_ylabel(\"Loss\")\n",
        "        axes[i].set_title(f\"K-Fold {i+1}\")\n",
        "        axes[i].legend(loc=\"best\")\n",
        "    for i in range(plots, len(axes)):\n",
        "        axes[i].axis('off')\n",
        "\n",
        "    fig.tight_layout()\n",
        "    plt.show()\n",
        "\n",
        "# Example usage\n",
        "plot_losses(epochs=num_epochs, train_loss=historys[\"loss\"], val_loss=historys[\"val_loss\"])"
      ]
    },
    {
      "cell_type": "code",
      "execution_count": null,
      "metadata": {
        "colab": {
          "base_uri": "https://localhost:8080/"
        },
        "id": "iV8VbKkOZVis",
        "outputId": "2a7b92d3-148f-455b-c2f1-5fea0bf38e32"
      },
      "outputs": [
        {
          "name": "stdout",
          "output_type": "stream",
          "text": [
            "Sample predictions range: (max:0.024679500609636307, min:-0.035970695316791534) - Targets range: (max:3.601442337036133, min:-1.8865545988082886)\n"
          ]
        },
        {
          "data": {
            "text/plain": [
              "0.7596686562351253"
            ]
          },
          "execution_count": 15,
          "metadata": {},
          "output_type": "execute_result"
        }
      ],
      "source": [
        "evaluate_model(test, len(test), cfg[\"device\"], choices=np.random.choice(64, 3).tolist())"
      ]
    },
    {
      "cell_type": "code",
      "execution_count": null,
      "metadata": {
        "colab": {
          "base_uri": "https://localhost:8080/"
        },
        "id": "3yCXIHB2sPWN",
        "outputId": "7e0aa251-1144-491d-b79e-6a9d953c8cc4"
      },
      "outputs": [
        {
          "name": "stdout",
          "output_type": "stream",
          "text": [
            "Predictions: (max:-0.00851, min:-0.08890), Targets: (max:1.02938, min:-3.28660)\n",
            "Predictions: (max:-0.00304, min:-0.06528), Targets: (max:4.49993, min:-1.51084)\n",
            "Predictions: (max:0.00498, min:-0.05848), Targets: (max:1.05039, min:-1.93420)\n",
            "Predictions: (max:0.02499, min:-0.04086), Targets: (max:1.44193, min:-1.66083)\n",
            "Predictions: (max:0.02042, min:-0.05491), Targets: (max:1.24467, min:-1.75284)\n",
            "Predictions: (max:0.00966, min:-0.05132), Targets: (max:1.75757, min:-0.41993)\n",
            "Predictions: (max:0.00123, min:-0.06364), Targets: (max:1.79568, min:-1.84550)\n",
            "Predictions: (max:0.02410, min:-0.06002), Targets: (max:2.32729, min:-3.00819)\n",
            "Predictions: (max:-0.01662, min:-0.06762), Targets: (max:2.82608, min:-1.55942)\n",
            "Predictions: (max:0.01033, min:-0.05256), Targets: (max:2.63445, min:-3.56409)\n",
            "Predictions: (max:0.02383, min:-0.10676), Targets: (max:5.00000, min:-3.31374)\n",
            "Predictions: (max:-0.01796, min:-0.07399), Targets: (max:2.16331, min:-1.07440)\n",
            "Predictions: (max:-0.00649, min:-0.06992), Targets: (max:0.60004, min:-1.58540)\n",
            "Predictions: (max:-0.00972, min:-0.06776), Targets: (max:1.18293, min:-0.72016)\n",
            "Predictions: (max:-0.00592, min:-0.06267), Targets: (max:1.08114, min:-2.62323)\n",
            "Predictions: (max:-0.01547, min:-0.06764), Targets: (max:1.97544, min:-1.44687)\n",
            "Predictions: (max:-0.01880, min:-0.06832), Targets: (max:1.22736, min:-0.61982)\n",
            "Predictions: (max:-0.01271, min:-0.06692), Targets: (max:1.08984, min:-1.52067)\n",
            "Predictions: (max:-0.00469, min:-0.06139), Targets: (max:0.55521, min:-1.35140)\n",
            "Predictions: (max:0.00710, min:-0.07195), Targets: (max:3.15899, min:-1.74765)\n",
            "Predictions: (max:-0.00569, min:-0.09216), Targets: (max:4.59190, min:-2.03808)\n",
            "Predictions: (max:-0.01242, min:-0.07383), Targets: (max:0.91607, min:-2.01765)\n",
            "Predictions: (max:-0.01106, min:-0.06057), Targets: (max:1.04947, min:-1.63284)\n",
            "Predictions: (max:-0.01433, min:-0.06737), Targets: (max:1.91115, min:-1.52190)\n",
            "Predictions: (max:-0.00609, min:-0.06138), Targets: (max:1.24334, min:-0.99749)\n",
            "Predictions: (max:0.00152, min:-0.04620), Targets: (max:0.31374, min:-1.17571)\n",
            "Predictions: (max:0.00591, min:-0.04990), Targets: (max:0.74494, min:-0.52862)\n",
            "Predictions: (max:0.00226, min:-0.05417), Targets: (max:0.63884, min:-0.76470)\n",
            "Predictions: (max:0.00054, min:-0.05779), Targets: (max:1.00097, min:-0.63408)\n",
            "Predictions: (max:0.00692, min:-0.05279), Targets: (max:1.97304, min:-2.06412)\n",
            "Predictions: (max:0.01275, min:-0.06540), Targets: (max:1.83534, min:-2.11867)\n",
            "Predictions: (max:0.03001, min:-0.05790), Targets: (max:2.96881, min:-1.27110)\n",
            "Predictions: (max:0.03465, min:-0.04004), Targets: (max:0.79226, min:-1.29645)\n",
            "Predictions: (max:0.01136, min:-0.03818), Targets: (max:2.23861, min:-0.12744)\n",
            "Predictions: (max:0.01121, min:-0.04131), Targets: (max:1.07541, min:-1.37022)\n",
            "Predictions: (max:0.00116, min:-0.05702), Targets: (max:1.81535, min:-0.85091)\n",
            "Predictions: (max:0.02801, min:-0.04349), Targets: (max:0.52543, min:-2.91307)\n",
            "Predictions: (max:0.01471, min:-0.04569), Targets: (max:2.03844, min:-1.52363)\n",
            "Predictions: (max:0.01723, min:-0.05581), Targets: (max:3.17065, min:-0.81399)\n",
            "Predictions: (max:0.03652, min:-0.04779), Targets: (max:1.25114, min:-4.45259)\n",
            "Predictions: (max:0.03826, min:-0.09177), Targets: (max:2.75438, min:-4.04950)\n",
            "Predictions: (max:-0.00724, min:-0.06335), Targets: (max:0.67157, min:-2.38530)\n",
            "Predictions: (max:0.05683, min:-0.04885), Targets: (max:2.11341, min:-2.94369)\n",
            "Predictions: (max:0.02804, min:-0.03524), Targets: (max:0.96587, min:-1.35977)\n",
            "Predictions: (max:0.02682, min:-0.03961), Targets: (max:1.42204, min:-2.30810)\n",
            "Predictions: (max:0.02527, min:-0.03156), Targets: (max:1.34390, min:-1.11130)\n",
            "Predictions: (max:0.02548, min:-0.03212), Targets: (max:0.42233, min:-0.78447)\n",
            "Predictions: (max:0.06100, min:-0.03145), Targets: (max:1.89588, min:-4.13121)\n",
            "Predictions: (max:0.03413, min:-0.02552), Targets: (max:1.12245, min:-1.47302)\n",
            "Predictions: (max:0.03269, min:-0.02936), Targets: (max:0.85338, min:-0.64792)\n",
            "Predictions: (max:0.03158, min:-0.08098), Targets: (max:3.92665, min:-1.64160)\n"
          ]
        }
      ],
      "source": [
        "for i, (inp, target) in enumerate(test):\n",
        "    with torch.no_grad():\n",
        "      model.eval()\n",
        "      inp, target = inp.to(cfg[\"device\"]), target.to(cfg[\"device\"])\n",
        "      preds = model(inp)\n",
        "    print(f\"Predictions: (max:{preds.max().item():.5f}, min:{preds.min().item():.5f}), Targets: (max:{target.max().item():.5f}, min:{target.min().item():.5f})\")\n",
        "    if i == 50:\n",
        "        break"
      ]
    },
    {
      "cell_type": "code",
      "execution_count": null,
      "metadata": {
        "id": "eRRfJG02r29j"
      },
      "outputs": [],
      "source": [
        "torch.manual_seed(11) #11 #32\n",
        "model = JaneStreetModelV1(MODEL_CONFIG)\n",
        "torch.save(\n",
        "    {\n",
        "        \"model_state_dict\": model.state_dict(),\n",
        "    },\n",
        "    \"/content/content/MyDrive/Kaggle Competitions/Jane Street/model_initial_weights.pth\"\n",
        ")"
      ]
    },
    {
      "cell_type": "markdown",
      "metadata": {
        "id": "AEHdzTZDFriY"
      },
      "source": [
        "## Multiple Models"
      ]
    },
    {
      "cell_type": "code",
      "execution_count": null,
      "metadata": {
        "colab": {
          "base_uri": "https://localhost:8080/"
        },
        "id": "A_dEc-z_FUYy",
        "outputId": "7b7a6c79-e7b8-47f5-9289-d45a992a5526"
      },
      "outputs": [
        {
          "metadata": {
            "tags": null
          },
          "name": "stderr",
          "output_type": "stream",
          "text": [
            "Model training:   0%|          | 0/15 [00:00<?, ?it/s]\n",
            "Processing financial instruments:   0%|          | 0/1 [00:00<?, ?it/s]\u001b[A\n",
            "Processing financial instruments: 100%|██████████| 1/1 [00:01<00:00,  1.89s/it]\n"
          ]
        },
        {
          "metadata": {
            "tags": null
          },
          "name": "stdout",
          "output_type": "stream",
          "text": [
            "Epoch 1/5\n",
            "Batch 3679/7360 - 0.035s/step - loss: 0.3014420165166603 - lr: 0.004885044799523537\n",
            "Batch 7359/7360 - 0.036s/step - loss: 0.33495903781022995 - lr: 0.004551307850160225\n",
            "train loss: 0.31820052716344516\n",
            "Epoch 2/5\n",
            "Batch 3679/7360 - 0.038s/step - loss: 0.2972773990039612 - lr: 0.004031457641232487\n",
            "Batch 7359/7360 - 0.041s/step - loss: 0.33361575655315234 - lr: 0.0033763807331995527\n",
            "train loss: 0.3154465777785568\n",
            "Epoch 3/5\n",
            "Batch 3679/7360 - 0.043s/step - loss: 0.2960577318680209 - lr: 0.002650200618008885\n",
            "Batch 7359/7360 - 0.045s/step - loss: 0.333439450891076 - lr: 0.0019240008649297207\n",
            "train loss: 0.31474859137954847\n",
            "Epoch 4/5\n",
            "Batch 3679/7360 - 0.044s/step - loss: 0.2954591209108121 - lr: 0.0012688669655246444\n",
            "Batch 7359/7360 - 0.044s/step - loss: 0.3329465195281006 - lr: 0.0007489279904537092\n",
            "train loss: 0.31420282021945634\n",
            "Epoch 5/5\n",
            "Batch 3679/7360 - 0.044s/step - loss: 0.29501789866885897 - lr: 0.0004150791892247097\n",
            "Batch 7359/7360 - 0.044s/step - loss: 0.33278489356491026 - lr: 0.00030000000856331594\n",
            "train loss: 0.3139013961168846\n",
            "Epochs: 5 - Train error: 0.3139014\n",
            "\n"
          ]
        },
        {
          "metadata": {
            "tags": null
          },
          "name": "stderr",
          "output_type": "stream",
          "text": [
            "Model training:   7%|▋         | 1/15 [27:42<6:27:48, 1662.01s/it]\n",
            "Processing financial instruments:   0%|          | 0/1 [00:00<?, ?it/s]\u001b[A\n",
            "Processing financial instruments: 100%|██████████| 1/1 [00:02<00:00,  2.59s/it]"
          ]
        },
        {
          "metadata": {
            "tags": null
          },
          "name": "stdout",
          "output_type": "stream",
          "text": [
            "Epoch 1/5\n"
          ]
        },
        {
          "metadata": {
            "tags": null
          },
          "name": "stderr",
          "output_type": "stream",
          "text": [
            "\n"
          ]
        },
        {
          "metadata": {
            "tags": null
          },
          "name": "stdout",
          "output_type": "stream",
          "text": [
            "Batch 5865/11732 - 0.036s/step - loss: 0.29825758023869897 - lr: 0.00488502170188806\n",
            "Batch 11731/11732 - 0.035s/step - loss: 0.3452986488325164 - lr: 0.00455126391065363\n",
            "train loss: 0.3217781145356077\n",
            "Epoch 2/5\n",
            "Batch 5865/11732 - 0.038s/step - loss: 0.2968907145919209 - lr: 0.004031397160959823\n",
            "Batch 11731/11732 - 0.043s/step - loss: 0.34516817895823215 - lr: 0.0033763096323912987\n",
            "train loss: 0.3210294467750765\n",
            "Epoch 3/5\n",
            "Batch 5865/11732 - 0.041s/step - loss: 0.2964372093838656 - lr: 0.002650125856507542\n",
            "Batch 11731/11732 - 0.039s/step - loss: 0.3444658756918 - lr: 0.0019239297609119337\n",
            "train loss: 0.3204515425378328\n",
            "Epoch 4/5\n",
            "Batch 5865/11732 - 0.039s/step - loss: 0.29557718670332567 - lr: 0.0012688064791470865\n",
            "Batch 11731/11732 - 0.039s/step - loss: 0.34343098867729055 - lr: 0.0007488840425444474\n",
            "train loss: 0.31950408769030814\n",
            "Epoch 5/5\n",
            "Batch 5865/11732 - 0.039s/step - loss: 0.2950435707886521 - lr: 0.00041505608171130696\n",
            "Batch 11731/11732 - 0.039s/step - loss: 0.34313241716812787 - lr: 0.0003000000033701831\n",
            "train loss: 0.31908799397839\n",
            "Epochs: 5 - Train error: 0.3190880\n",
            "\n"
          ]
        },
        {
          "metadata": {
            "tags": null
          },
          "name": "stderr",
          "output_type": "stream",
          "text": [
            "Model training:  13%|█▎        | 2/15 [1:09:14<7:45:54, 2150.36s/it]\n",
            "Processing financial instruments:   0%|          | 0/1 [00:00<?, ?it/s]\u001b[A\n",
            "Processing financial instruments: 100%|██████████| 1/1 [00:02<00:00,  2.20s/it]"
          ]
        },
        {
          "metadata": {
            "tags": null
          },
          "name": "stdout",
          "output_type": "stream",
          "text": [
            "Epoch 1/5\n"
          ]
        },
        {
          "metadata": {
            "tags": null
          },
          "name": "stderr",
          "output_type": "stream",
          "text": [
            "\n"
          ]
        },
        {
          "metadata": {
            "tags": null
          },
          "name": "stdout",
          "output_type": "stream",
          "text": [
            "Batch 5975/11952 - 0.036s/step - loss: 0.3594620768467826 - lr: 0.004885020986125125\n",
            "Batch 11951/11952 - 0.036s/step - loss: 0.3856973758944026 - lr: 0.0045512625490686945\n",
            "train loss: 0.3725797263705926\n",
            "Epoch 2/5\n",
            "Batch 5975/11952 - 0.039s/step - loss: 0.3580000938456805 - lr: 0.004031395286834308\n",
            "Batch 11951/11952 - 0.042s/step - loss: 0.3832028667164553 - lr: 0.003376307429177668\n",
            "train loss: 0.3706014802810679\n",
            "Epoch 3/5\n",
            "Batch 5975/11952 - 0.044s/step - loss: 0.356406848701487 - lr: 0.002650123539871696\n",
            "Batch 11951/11952 - 0.045s/step - loss: 0.3820561570352426 - lr: 0.0019239275576223287\n",
            "train loss: 0.3692315028683648\n",
            "Epoch 4/5\n",
            "Batch 5975/11952 - 0.044s/step - loss: 0.3557104692723318 - lr: 0.0012688046048770622\n",
            "Batch 11951/11952 - 0.044s/step - loss: 0.3813779477751284 - lr: 0.0007488826807606115\n",
            "train loss: 0.3685442085237301\n",
            "Epoch 5/5\n",
            "Batch 5975/11952 - 0.044s/step - loss: 0.3552180701426331 - lr: 0.00041505536571454914\n",
            "Batch 11951/11952 - 0.044s/step - loss: 0.38100203598727606 - lr: 0.0003000000032472553\n",
            "train loss: 0.3681100530649546\n",
            "Epochs: 5 - Train error: 0.3681101\n",
            "\n"
          ]
        },
        {
          "metadata": {
            "tags": null
          },
          "name": "stderr",
          "output_type": "stream",
          "text": [
            "Model training:  20%|██        | 3/15 [1:54:18<8:00:37, 2403.17s/it]\n",
            "Processing financial instruments:   0%|          | 0/1 [00:00<?, ?it/s]\u001b[A\n",
            "Processing financial instruments: 100%|██████████| 1/1 [00:01<00:00,  1.78s/it]"
          ]
        },
        {
          "metadata": {
            "tags": null
          },
          "name": "stdout",
          "output_type": "stream",
          "text": [
            "Epoch 1/5\n"
          ]
        },
        {
          "metadata": {
            "tags": null
          },
          "name": "stderr",
          "output_type": "stream",
          "text": [
            "\n"
          ]
        },
        {
          "output_type": "stream",
          "name": "stdout",
          "text": [
            "Batch 4486/8974 - 0.036s/step - loss: 0.2876329847747128 - lr: 0.004885033652321141\n",
            "Batch 8973/8974 - 0.039s/step - loss: 0.27101516851728585 - lr: 0.004551286644117994\n",
            "train loss: 0.27932407664599934\n",
            "Epoch 2/5\n",
            "Batch 4486/8974 - 0.041s/step - loss: 0.2848288147791316 - lr: 0.004031428452145586\n",
            "Batch 8973/8974 - 0.040s/step - loss: 0.2700798111216997 - lr: 0.00337634641829918\n",
            "train loss: 0.27745431295041567\n",
            "Epoch 3/5\n",
            "Batch 4486/8974 - 0.041s/step - loss: 0.2836319677247258 - lr: 0.0026501645362765752\n",
            "Batch 8973/8974 - 0.041s/step - loss: 0.2696232061931942 - lr: 0.0019239665482968273\n",
            "train loss: 0.27662758695896\n",
            "Epoch 4/5\n",
            "Batch 4486/8974 - 0.045s/step - loss: 0.28308338220131607 - lr: 0.0012688377731422948\n",
            "Batch 8973/8974 - 0.045s/step - loss: 0.2691323400212729 - lr: 0.0007489067798756815\n",
            "train loss: 0.2761078611112945\n",
            "Epoch 5/5\n",
            "Batch 4486/8974 - 0.046s/step - loss: 0.28241514411067054 - lr: 0.00041506803669016533\n",
            "Batch 8973/8974 - 0.045s/step - loss: 0.2688832917716769 - lr: 0.00030000000576003955\n",
            "train loss: 0.2756492179411737\n",
            "Epochs: 5 - Train error: 0.2756492\n",
            "\n"
          ]
        },
        {
          "output_type": "stream",
          "name": "stderr",
          "text": [
            "Model training:  27%|██▋       | 4/15 [2:28:19<6:54:24, 2260.42s/it]\n",
            "Processing financial instruments:   0%|          | 0/1 [00:00<?, ?it/s]\u001b[A\n",
            "Processing financial instruments: 100%|██████████| 1/1 [00:01<00:00,  1.95s/it]"
          ]
        },
        {
          "output_type": "stream",
          "name": "stdout",
          "text": [
            "Epoch 1/5\n"
          ]
        },
        {
          "output_type": "stream",
          "name": "stderr",
          "text": [
            "\n"
          ]
        },
        {
          "output_type": "stream",
          "name": "stdout",
          "text": [
            "Batch 4879/9760 - 0.035s/step - loss: 0.29711270284692026 - lr: 0.004885029558518217\n",
            "Batch 9759/9760 - 0.036s/step - loss: 0.27439057059019717 - lr: 0.004551278856351713\n",
            "train loss: 0.28575163671855874\n",
            "Epoch 2/5\n",
            "Batch 4879/9760 - 0.043s/step - loss: 0.29551560488142087 - lr: 0.004031417732736772\n",
            "Batch 9759/9760 - 0.046s/step - loss: 0.27398617418435667 - lr: 0.0033763338165382533\n",
            "train loss: 0.28475088953288874\n",
            "Epoch 3/5\n",
            "Batch 4879/9760 - 0.046s/step - loss: 0.29441580778573734 - lr: 0.0026501512857116973\n",
            "Batch 9759/9760 - 0.047s/step - loss: 0.27336227605367447 - lr: 0.001923953945985611\n",
            "train loss: 0.2838890419197059\n",
            "Epoch 4/5\n",
            "Batch 4879/9760 - 0.047s/step - loss: 0.29382911834848635 - lr: 0.0012688270526867674\n",
            "Batch 9759/9760 - 0.048s/step - loss: 0.2729155464808516 - lr: 0.0007488989906687236\n",
            "train loss: 0.28337233241466897\n",
            "Epoch 5/5\n",
            "Batch 4879/9760 - 0.047s/step - loss: 0.2934984793701423 - lr: 0.0004150639411936247\n",
            "Batch 9759/9760 - 0.048s/step - loss: 0.2725537661485208 - lr: 0.0003000000048696524\n",
            "train loss: 0.28302612275933153\n",
            "Epochs: 5 - Train error: 0.2830261\n",
            "\n"
          ]
        },
        {
          "output_type": "stream",
          "name": "stderr",
          "text": [
            "Model training:  33%|███▎      | 5/15 [3:07:07<6:20:47, 2284.78s/it]\n",
            "Processing financial instruments:   0%|          | 0/1 [00:00<?, ?it/s]\u001b[A\n",
            "Processing financial instruments: 100%|██████████| 1/1 [00:02<00:00,  2.03s/it]"
          ]
        },
        {
          "output_type": "stream",
          "name": "stdout",
          "text": [
            "Epoch 1/5\n"
          ]
        },
        {
          "output_type": "stream",
          "name": "stderr",
          "text": [
            "\n"
          ]
        },
        {
          "output_type": "stream",
          "name": "stdout",
          "text": [
            "Batch 5873/11749 - 0.036s/step - loss: 0.3331634227363542 - lr: 0.004885041059391514\n",
            "Batch 11747/11749 - 0.040s/step - loss: 0.3319104313447686 - lr: 0.004551337665026222\n",
            "train loss: 0.33253692704056137\n",
            "Epoch 2/5\n",
            "Batch 5873/11749 - 0.036s/step - loss: 0.3317578498796193 - lr: 0.00403144784753318\n",
            "Batch 11747/11749 - 0.041s/step - loss: 0.33167127660162693 - lr: 0.0033764289795445396\n",
            "train loss: 0.3317145632406231\n",
            "Epoch 3/5\n",
            "Batch 5873/11749 - 0.039s/step - loss: 0.331603120829879 - lr: 0.0026501885116025545\n",
            "Batch 11747/11749 - 0.038s/step - loss: 0.3315456920994841 - lr: 0.0019240491142897447\n",
            "train loss: 0.3315744064646815\n",
            "Epoch 4/5\n",
            "Batch 5873/11749 - 0.038s/step - loss: 0.33132561917098385 - lr: 0.0012688571706470258\n",
            "Batch 11747/11749 - 0.039s/step - loss: 0.33084482177844665 - lr: 0.0007489578132131765\n",
            "train loss: 0.3310852204747152\n",
            "Epoch 5/5\n",
            "Batch 5873/11749 - 0.039s/step - loss: 0.33047909749004956 - lr: 0.0004150754471861382\n",
            "Batch 11747/11749 - 0.039s/step - loss: 0.33034498265785556 - lr: 0.00030000001344174904\n",
            "train loss: 0.33041204007395253\n",
            "Epochs: 5 - Train error: 0.3304120\n",
            "\n"
          ]
        },
        {
          "output_type": "stream",
          "name": "stderr",
          "text": [
            "Model training:  40%|████      | 6/15 [3:48:21<5:52:20, 2348.94s/it]\n",
            "Processing financial instruments:   0%|          | 0/1 [00:00<?, ?it/s]\u001b[A\n",
            "Processing financial instruments: 100%|██████████| 1/1 [00:01<00:00,  1.98s/it]"
          ]
        },
        {
          "output_type": "stream",
          "name": "stdout",
          "text": [
            "Epoch 1/5\n"
          ]
        },
        {
          "output_type": "stream",
          "name": "stderr",
          "text": [
            "\n"
          ]
        },
        {
          "output_type": "stream",
          "name": "stdout",
          "text": [
            "Batch 7442/14886 - 0.036s/step - loss: 0.3267998327333135 - lr: 0.004885013462827235\n",
            "Batch 14885/14886 - 0.039s/step - loss: 0.28107565431990134 - lr: 0.004551248237751825\n",
            "train loss: 0.3039377435266074\n",
            "Epoch 2/5\n",
            "Batch 7442/14886 - 0.040s/step - loss: 0.32499021662413063 - lr: 0.004031375588389866\n",
            "Batch 14885/14886 - 0.039s/step - loss: 0.2804815550263116 - lr: 0.003376284271826643\n",
            "train loss: 0.30273588582522115\n",
            "Epoch 3/5\n",
            "Batch 7442/14886 - 0.039s/step - loss: 0.3245778152597829 - lr: 0.0026500991904169525\n",
            "Batch 14885/14886 - 0.039s/step - loss: 0.280199455332776 - lr: 0.0019239043995581506\n",
            "train loss: 0.30238863529627946\n",
            "Epoch 4/5\n",
            "Batch 7442/14886 - 0.039s/step - loss: 0.323871650223504 - lr: 0.001268784905076122\n",
            "Batch 14885/14886 - 0.040s/step - loss: 0.27964785801377895 - lr: 0.000748868367576682\n",
            "train loss: 0.3017597541186415\n",
            "Epoch 5/5\n",
            "Batch 7442/14886 - 0.041s/step - loss: 0.32247401481402277 - lr: 0.0004150478402217997\n",
            "Batch 14885/14886 - 0.040s/step - loss: 0.27930330150652727 - lr: 0.00030000000209334863\n",
            "train loss: 0.300888658160275\n",
            "Epochs: 5 - Train error: 0.3008887\n",
            "\n"
          ]
        },
        {
          "output_type": "stream",
          "name": "stderr",
          "text": [
            "Model training:  47%|████▋     | 7/15 [4:41:33<5:49:56, 2624.62s/it]\n",
            "Processing financial instruments:   0%|          | 0/1 [00:00<?, ?it/s]\u001b[A\n",
            "Processing financial instruments: 100%|██████████| 1/1 [00:02<00:00,  2.05s/it]"
          ]
        },
        {
          "output_type": "stream",
          "name": "stdout",
          "text": [
            "Epoch 1/5\n"
          ]
        },
        {
          "output_type": "stream",
          "name": "stderr",
          "text": [
            "\n"
          ]
        },
        {
          "output_type": "stream",
          "name": "stdout",
          "text": [
            "Batch 3729/7461 - 0.035s/step - loss: 0.32365791218882134 - lr: 0.004885074528190694\n",
            "Batch 7459/7461 - 0.038s/step - loss: 0.3278227883967853 - lr: 0.004551422557839561\n",
            "train loss: 0.32574035029280335\n",
            "Epoch 2/5\n",
            "Batch 3729/7461 - 0.039s/step - loss: 0.3198203990528055 - lr: 0.004031535491268518\n",
            "Batch 7459/7461 - 0.040s/step - loss: 0.32582488251680225 - lr: 0.003376566358892338\n",
            "train loss: 0.3228226407848039\n",
            "Epoch 3/5\n",
            "Batch 3729/7461 - 0.042s/step - loss: 0.31854565132761387 - lr: 0.0026502968533460517\n",
            "Batch 7459/7461 - 0.042s/step - loss: 0.32441409631150375 - lr: 0.001924186505930495\n",
            "train loss: 0.3214798738195588\n",
            "Epoch 4/5\n",
            "Batch 3729/7461 - 0.044s/step - loss: 0.3175305187327652 - lr: 0.0012689448275350682\n",
            "Batch 7459/7461 - 0.043s/step - loss: 0.3236798425734383 - lr: 0.0007490427382098837\n",
            "train loss: 0.32060518065310173\n",
            "Epoch 5/5\n",
            "Batch 3729/7461 - 0.042s/step - loss: 0.31702370610819686 - lr: 0.00041510893726684055\n",
            "Batch 7459/7461 - 0.043s/step - loss: 0.32334364070944066 - lr: 0.0003000000333321643\n",
            "train loss: 0.32018367340881876\n",
            "Epochs: 5 - Train error: 0.3201837\n",
            "\n"
          ]
        },
        {
          "output_type": "stream",
          "name": "stderr",
          "text": [
            "Model training:  53%|█████▎    | 8/15 [5:09:11<4:30:17, 2316.80s/it]\n",
            "Processing financial instruments:   0%|          | 0/1 [00:00<?, ?it/s]\u001b[A\n",
            "Processing financial instruments: 100%|██████████| 1/1 [00:01<00:00,  1.75s/it]"
          ]
        },
        {
          "output_type": "stream",
          "name": "stdout",
          "text": [
            "Epoch 1/5\n"
          ]
        },
        {
          "output_type": "stream",
          "name": "stderr",
          "text": [
            "\n"
          ]
        },
        {
          "output_type": "stream",
          "name": "stdout",
          "text": [
            "Batch 3099/6201 - 0.036s/step - loss: 0.2818631785112103 - lr: 0.004885093159659209\n",
            "Batch 6199/6201 - 0.035s/step - loss: 0.2838708048693145 - lr: 0.004551469818224732\n",
            "train loss: 0.2828669916902624\n",
            "Epoch 2/5\n",
            "Batch 3099/6201 - 0.035s/step - loss: 0.2793503562529241 - lr: 0.004031584285051895\n",
            "Batch 6199/6201 - 0.037s/step - loss: 0.2837537696289139 - lr: 0.0033766428427237896\n",
            "train loss: 0.281552062940919\n",
            "Epoch 3/5\n",
            "Batch 3099/6201 - 0.040s/step - loss: 0.2790286339132205 - lr: 0.0026503571718774805\n",
            "Batch 6199/6201 - 0.040s/step - loss: 0.28231806644028234 - lr: 0.0019242629989842043\n",
            "train loss: 0.28067335017675143\n",
            "Epoch 4/5\n",
            "Batch 3099/6201 - 0.039s/step - loss: 0.2778664450082297 - lr: 0.0012689936311856935\n",
            "Batch 6199/6201 - 0.039s/step - loss: 0.2812801027369325 - lr: 0.0007490900227392355\n",
            "train loss: 0.27957327387258113\n",
            "Epoch 5/5\n",
            "Batch 3099/6201 - 0.040s/step - loss: 0.27728137148003423 - lr: 0.0004151275847008995\n",
            "Batch 6199/6201 - 0.040s/step - loss: 0.28065871088615346 - lr: 0.00030000004825409\n",
            "train loss: 0.2789700411830939\n",
            "Epochs: 5 - Train error: 0.2789700\n",
            "\n"
          ]
        },
        {
          "output_type": "stream",
          "name": "stderr",
          "text": [
            "Model training:  60%|██████    | 9/15 [5:30:43<3:19:39, 1996.53s/it]\n",
            "Processing financial instruments:   0%|          | 0/1 [00:00<?, ?it/s]\u001b[A\n",
            "Processing financial instruments: 100%|██████████| 1/1 [00:02<00:00,  2.05s/it]"
          ]
        },
        {
          "output_type": "stream",
          "name": "stdout",
          "text": [
            "Epoch 1/5\n"
          ]
        },
        {
          "output_type": "stream",
          "name": "stderr",
          "text": [
            "\n"
          ]
        },
        {
          "output_type": "stream",
          "name": "stdout",
          "text": [
            "Batch 7853/15709 - 0.039s/step - loss: 0.2573169600295611 - lr: 0.004885026377791813\n",
            "Batch 15707/15709 - 0.045s/step - loss: 0.24443092573854655 - lr: 0.004551300427032632\n",
            "train loss: 0.25087394288405385\n",
            "Epoch 2/5\n",
            "Batch 7853/15709 - 0.043s/step - loss: 0.25293180317223557 - lr: 0.004031409404269185\n",
            "Batch 15707/15709 - 0.043s/step - loss: 0.24341480881200134 - lr: 0.003376368721282494\n",
            "train loss: 0.24817330599211845\n",
            "Epoch 3/5\n",
            "Batch 7853/15709 - 0.042s/step - loss: 0.25220869645923505 - lr: 0.0026501409906944714\n",
            "Batch 15707/15709 - 0.041s/step - loss: 0.24293225978095956 - lr: 0.0019239888523672432\n",
            "train loss: 0.2475704781200973\n",
            "Epoch 4/5\n",
            "Batch 7853/15709 - 0.042s/step - loss: 0.2516676647841659 - lr: 0.0012688187234665674\n",
            "Batch 15707/15709 - 0.041s/step - loss: 0.2425792067890105 - lr: 0.0007489205656363879\n",
            "train loss: 0.24712343578658819\n",
            "Epoch 5/5\n",
            "Batch 7853/15709 - 0.042s/step - loss: 0.25132370374790625 - lr: 0.0004150607592494674\n",
            "Batch 15707/15709 - 0.041s/step - loss: 0.24237866879287046 - lr: 0.00030000000751900736\n",
            "train loss: 0.24685118627038835\n",
            "Epochs: 5 - Train error: 0.2468512\n",
            "\n"
          ]
        },
        {
          "output_type": "stream",
          "name": "stderr",
          "text": [
            "Model training:  67%|██████▋   | 10/15 [6:30:04<3:26:37, 2479.58s/it]\n",
            "Processing financial instruments:   0%|          | 0/1 [00:00<?, ?it/s]\u001b[A\n",
            "Processing financial instruments: 100%|██████████| 1/1 [00:02<00:00,  2.38s/it]"
          ]
        },
        {
          "output_type": "stream",
          "name": "stdout",
          "text": [
            "Epoch 1/5\n"
          ]
        },
        {
          "output_type": "stream",
          "name": "stderr",
          "text": [
            "\n"
          ]
        },
        {
          "output_type": "stream",
          "name": "stdout",
          "text": [
            "Batch 7632/15267 - 0.035s/step - loss: 0.30321843594814873 - lr: 0.004885027638922277\n",
            "Batch 15265/15267 - 0.036s/step - loss: 0.26880996507538446 - lr: 0.004551303625691472\n",
            "train loss: 0.2860142005117666\n",
            "Epoch 2/5\n",
            "Batch 7632/15267 - 0.041s/step - loss: 0.301846583589685 - lr: 0.004031412706424166\n",
            "Batch 15265/15267 - 0.040s/step - loss: 0.2685852596401089 - lr: 0.0033763738972628905\n",
            "train loss: 0.28521592161489695\n",
            "Epoch 3/5\n"
          ]
        }
      ],
      "source": [
        "torch.manual_seed(11)\n",
        "checkpoint = torch.load(\"/content/content/MyDrive/Kaggle Competitions/Jane Street/model_initial_weights.pth\", weights_only=True, map_location=cfg[\"device\"])\n",
        "cfg[\"frac\"] = None\n",
        "# models = {}\n",
        "models = torch.load(\"/content/content/MyDrive/Kaggle Competitions/Jane Street/models.pth\", weights_only=True,map_location=cfg[\"device\"])\n",
        "\n",
        "for symbol in tqdm(range(len(models.keys()),39), desc=\"Model training\"):\n",
        "    data_loader = create_dataloader_v1(get_paths([symbol]), cfg)\n",
        "    model = JaneStreetModelV1(MODEL_CONFIG)\n",
        "    model.load_state_dict(checkpoint[\"model_state_dict\"])\n",
        "    model.to(cfg[\"device\"])\n",
        "    optimizer = torch.optim.AdamW(\n",
        "        model.parameters(), lr=5e-3, weight_decay=1e-4\n",
        "    )\n",
        "    num_epochs = 5\n",
        "    history = train_model(epochs=num_epochs, train_loader=data_loader, frac=1, min_lr=3e-4,\n",
        "                          freq=len(data_loader)//2, device=cfg[\"device\"])\n",
        "    models[symbol] = model.state_dict()\n",
        "    print(f\"\"\"Epochs: {num_epochs} - Train error: {history[\"loss\"][-1]:.7f}\"\"\")\n",
        "    print()\n",
        "    torch.save(models, \"/content/content/MyDrive/Kaggle Competitions/Jane Street/models.pth\")"
      ]
    },
    {
      "cell_type": "code",
      "execution_count": null,
      "metadata": {
        "id": "9dq70Ch-vu_5"
      },
      "outputs": [],
      "source": [
        "class PositionalEncoding(nn.Module):\n",
        "    def __init__(self, dim_out):\n",
        "        super(PositionalEncoding, self).__init__()\n",
        "        self.dim_out = dim_out\n",
        "        self.register_buffer(\n",
        "            \"div_term\", torch.exp(torch.arange(0, dim_out, 2).float() * (-torch.log(torch.tensor(10000.0)) / dim_out))\n",
        "        )\n",
        "\n",
        "    def forward(self, pos):\n",
        "        pos = pos.unsqueeze(-1).float()  # Shape: [batch_size, 1]\n",
        "        sin_part = torch.sin(pos * self.div_term[:self.dim_out // 2 + (self.dim_out % 2)])\n",
        "        cos_part = torch.cos(pos * self.div_term[:self.dim_out // 2])\n",
        "        out = torch.zeros(pos.shape[0], self.dim_out, device=pos.device)\n",
        "        out[:, 0::2] = sin_part\n",
        "        out[:, 1::2] = cos_part\n",
        "        return out"
      ]
    }
  ],
  "metadata": {
    "colab": {
      "provenance": []
    },
    "kernelspec": {
      "display_name": "Python 3",
      "name": "python3"
    },
    "language_info": {
      "name": "python"
    }
  },
  "nbformat": 4,
  "nbformat_minor": 0
}