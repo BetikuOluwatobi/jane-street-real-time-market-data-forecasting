{
  "cells": [
    {
      "cell_type": "code",
      "execution_count": null,
      "metadata": {
        "colab": {
          "base_uri": "https://localhost:8080/"
        },
        "id": "sLc696uuEVr0",
        "outputId": "feb95144-0124-4e82-d9f4-36324cce34ea"
      },
      "outputs": [
        {
          "output_type": "stream",
          "name": "stdout",
          "text": [
            "Mounted at content\n"
          ]
        }
      ],
      "source": [
        "from google.colab import drive\n",
        "drive.mount('content')"
      ]
    },
    {
      "cell_type": "code",
      "execution_count": null,
      "metadata": {
        "colab": {
          "base_uri": "https://localhost:8080/"
        },
        "id": "pcvRhDYzEol2",
        "outputId": "77beae2f-2a6f-4b01-e04d-54583c5be2b1"
      },
      "outputs": [
        {
          "output_type": "stream",
          "name": "stderr",
          "text": [
            "/usr/local/lib/python3.10/dist-packages/dask/dataframe/__init__.py:42: FutureWarning: \n",
            "Dask dataframe query planning is disabled because dask-expr is not installed.\n",
            "\n",
            "You can install it with `pip install dask[dataframe]` or `conda install dask`.\n",
            "This will raise in a future version.\n",
            "\n",
            "  warnings.warn(msg, FutureWarning)\n"
          ]
        }
      ],
      "source": [
        "import numpy as np # linear algebra\n",
        "import pandas as pd # data processing, CSV file I/O (e.g. pd.read_csv)\n",
        "import polars as pl\n",
        "import lightgbm as lgb\n",
        "from sklearn.model_selection import KFold, train_test_split\n",
        "from sklearn.metrics import mean_absolute_error\n",
        "import pickle, time, logging, glob, pathlib, random\n",
        "from sklearn.metrics import r2_score\n",
        "import torch, math\n",
        "from torch.utils.data import  Dataset, DataLoader\n",
        "from functools import lru_cache\n",
        "import matplotlib.pyplot as plt\n",
        "from tqdm import tqdm\n",
        "import torch.nn as nn\n",
        "\n",
        "root = pathlib.Path(f\"/content/content/MyDrive/Kaggle Competitions/Jane Street/train.npy\")\n",
        "def get_paths(nums: list) -> list:\n",
        "    return [root/f\"symbol={i}/window=4/part-0.npz\" for i in nums]\n",
        "\n",
        "train_paths = get_paths(range(36))\n",
        "val_paths = get_paths(range(36,38))\n",
        "final_path = get_paths([38])"
      ]
    },
    {
      "cell_type": "code",
      "execution_count": null,
      "metadata": {
        "id": "I42SXeXMEtP8"
      },
      "outputs": [],
      "source": [
        "cfg = {\n",
        "    \"device\": torch.device(\"cuda\" if torch.cuda.is_available() else \"cpu\"),\n",
        "    \"window\": 4,\n",
        "    \"batch_size\":96,#96,\n",
        "    \"shuffle\":False,\n",
        "    \"dim\": np.load(train_paths[0], allow_pickle=True)[\"data\"].shape[-1],\n",
        "    \"drop_last\":True,\n",
        "    \"num_workers\":1,\n",
        "    \"frac\": None,\n",
        "    \"pin_memory\": True,\n",
        "    \"prefetch_factor\":2\n",
        "}"
      ]
    },
    {
      "cell_type": "code",
      "execution_count": null,
      "metadata": {
        "colab": {
          "base_uri": "https://localhost:8080/"
        },
        "id": "pGa4AfzfEtxC",
        "outputId": "2790066f-9fc1-4cf7-ef0a-6eae9db3ab0c"
      },
      "outputs": [
        {
          "output_type": "execute_result",
          "data": {
            "text/plain": [
              "{'device': device(type='cpu'),\n",
              " 'window': 4,\n",
              " 'batch_size': 96,\n",
              " 'shuffle': False,\n",
              " 'dim': 32,\n",
              " 'drop_last': True,\n",
              " 'num_workers': 1,\n",
              " 'frac': None,\n",
              " 'pin_memory': True,\n",
              " 'prefetch_factor': 2}"
            ]
          },
          "metadata": {},
          "execution_count": 4
        }
      ],
      "source": [
        "cfg"
      ]
    },
    {
      "cell_type": "code",
      "execution_count": null,
      "metadata": {
        "id": "N-pCYjmME1Q6"
      },
      "outputs": [],
      "source": [
        "class JaneStreetDatasetV1(Dataset):\n",
        "    def __init__(self, paths, cfg):\n",
        "        self.file_mappings = []\n",
        "        self.total_rows = 0\n",
        "        self.frac = cfg[\"frac\"]\n",
        "\n",
        "\n",
        "        for path in tqdm(paths, desc=\"Processing financial instruments\"):\n",
        "            data = np.load(path,allow_pickle=True)[\"target\"]\n",
        "            size = int(data.shape[0] * self.frac) if self.frac else data.shape[0]\n",
        "            self.file_mappings.append((path, self.total_rows, self.total_rows + size)) # Map cumulative row count to file path\n",
        "            self.total_rows += size\n",
        "\n",
        "\n",
        "    @lru_cache(maxsize = 10)\n",
        "    def load_file(self, path_name):\n",
        "        train_npy = np.load(path_name, allow_pickle=True, mmap_mode=\"r\")\n",
        "        return train_npy[\"data\"], train_npy[\"target\"]\n",
        "\n",
        "    def __len__(self):\n",
        "        return self.total_rows\n",
        "\n",
        "    def __getitem__(self, idx):\n",
        "        for path, offset, sum_k in self.file_mappings:\n",
        "            if idx < sum_k:\n",
        "                size = idx - offset\n",
        "                data, targets = self.load_file(path)\n",
        "                return (\n",
        "                    torch.tensor(data[size], dtype=torch.float32),\n",
        "                    torch.tensor(targets[size], dtype=torch.float32).unsqueeze(0)\n",
        "                )"
      ]
    },
    {
      "cell_type": "code",
      "execution_count": null,
      "metadata": {
        "id": "Kuj-5d9VjoA3"
      },
      "outputs": [],
      "source": [
        "def create_dataloader_v1(paths, cfg):\n",
        "    dataset = JaneStreetDatasetV1(paths, cfg)\n",
        "    dataloader = DataLoader(dataset=dataset,\n",
        "                            batch_size=cfg[\"batch_size\"],\n",
        "                            shuffle=cfg[\"shuffle\"],\n",
        "                            drop_last=cfg[\"drop_last\"],\n",
        "                            num_workers=cfg[\"num_workers\"]\n",
        "                           )\n",
        "\n",
        "    return dataloader"
      ]
    },
    {
      "cell_type": "code",
      "execution_count": null,
      "metadata": {
        "id": "BwNkt4g7jnxK"
      },
      "outputs": [],
      "source": [
        "def get_slopes(n):\n",
        "    def get_slopes_power_of_2(n):\n",
        "        start = (2**(-2**-(math.log2(n)-3)))\n",
        "        ratio = start\n",
        "        return [start*ratio**i for i in range(n)]\n",
        "\n",
        "    if math.log2(n).is_integer():\n",
        "        return get_slopes_power_of_2(n)                   #In the paper, we only train models that have 2^a heads for some a. This function has\n",
        "    else:                                                 #some good properties that only occur when the input is a power of 2. To maintain that even\n",
        "        closest_power_of_2 = 2**math.floor(math.log2(n))  #when the number of heads is not a power of 2, we use this workaround.\n",
        "        return get_slopes_power_of_2(closest_power_of_2) + get_slopes(2*closest_power_of_2)[0::2][:n-closest_power_of_2]\n",
        "\n",
        "def get_alibi_slope(num_heads):\n",
        "    return torch.Tensor(get_slopes(num_heads)).unsqueeze(1).unsqueeze(1)\n",
        "\n",
        "def get_alibi_bias(num_heads, seq_len):\n",
        "    relative_pos = torch.arange(seq_len)[None, :] - torch.arange(seq_len)[:, None]\n",
        "    m = get_alibi_slope(num_heads)\n",
        "    return m * relative_pos\n",
        "\n",
        "def init_weights(m):\n",
        "    if isinstance(m, torch.nn.Linear):\n",
        "      torch.nn.init.normal_(m.weight, mean=0.0, std=1/math.sqrt(6)) #torch.nn.init.kaiming_normal_(m.weight, nonlinearity='leaky_relu')\n",
        "      if m.bias is not None:\n",
        "        nn.init.constant_(m.bias, 0)\n",
        "    elif isinstance(m, torch.nn.Embedding):\n",
        "        torch.nn.init.normal_(m.weight, mean=0.0, std=1/math.sqrt(6))\n",
        "\n",
        "class MultiHeadMaskAttention(torch.nn.Module):\n",
        "    def __init__(self, dim_in, dim_out, num_heads, window, bias):\n",
        "        super().__init__()\n",
        "        self.num_heads = num_heads\n",
        "        self.pos_emb = torch.nn.Embedding(window, dim_in)\n",
        "        self.W_query = torch.nn.Linear(dim_in, dim_out*num_heads, bias=bias)\n",
        "        self.W_key = torch.nn.Linear(dim_in, dim_out*num_heads, bias=bias)\n",
        "        self.W_value = torch.nn.Linear(dim_in, dim_out*num_heads, bias=bias)\n",
        "        self.out_proj = torch.nn.Linear(dim_out, dim_out)\n",
        "        self.softmax = torch.nn.Softmax(dim=-1)\n",
        "        self.register_buffer(\n",
        "            \"mask\",\n",
        "            torch.triu(torch.ones(window,window), diagonal=1).bool()\n",
        "        )\n",
        "        self.register_buffer(\n",
        "            \"bias\",\n",
        "            get_alibi_bias(num_heads, window)\n",
        "        )\n",
        "\n",
        "    def forward(self, inp):\n",
        "        batch, window, emb = inp.shape\n",
        "        pos_emb = self.pos_emb(torch.arange(window, device=inp.device))\n",
        "\n",
        "        queries = self.W_query(inp)\n",
        "        keys = self.W_key(inp)\n",
        "        values = self.W_value(inp)\n",
        "\n",
        "        keys = keys.view(batch, window, self.num_heads, emb)\n",
        "        queries = queries.view(batch, window, self.num_heads, emb)\n",
        "        values = values.view(batch, window, self.num_heads, emb)\n",
        "\n",
        "        keys = keys.transpose(1,2)\n",
        "        queries = queries.transpose(1,2)\n",
        "        values = values.transpose(1,2) + pos_emb\n",
        "\n",
        "        attn_scores = (queries @ keys.mT)/math.sqrt(keys.shape[-1]) + self.bias\n",
        "        attn_scores = attn_scores.masked_fill(self.mask, -torch.inf)\n",
        "        attn_weights = self.softmax(attn_scores)\n",
        "        context_vectors = (attn_weights @ values).transpose(1,2).mean(dim=-2)\n",
        "        return self.out_proj(context_vectors)/0.01\n",
        "\n",
        "class LayerNorm(torch.nn.Module):\n",
        "    def __init__(self, dim):\n",
        "        super().__init__()\n",
        "        self.eps = 1e-5\n",
        "        self.shift = torch.nn.Parameter(torch.zeros(dim))\n",
        "        self.scale = torch.nn.Parameter(torch.ones(dim))\n",
        "\n",
        "    def forward(self, inp):\n",
        "        mean = inp.mean(dim=-1, keepdim=True)\n",
        "        var = inp.var(dim=-1, keepdim=True, unbiased=False)\n",
        "        inp_norm = (inp - mean)/(torch.sqrt(var)+self.eps)\n",
        "\n",
        "        return inp_norm + self.shift * self.scale\n",
        "\n",
        "class FeedForwardLayer(torch.nn.Module):\n",
        "    def __init__(self, cfg):\n",
        "        super().__init__()\n",
        "        self.layer = torch.nn.Sequential(\n",
        "            torch.nn.Linear(cfg[\"n_features\"], cfg[\"n_features\"] * cfg[\"window\"]),\n",
        "            torch.nn.LeakyReLU(), #torch.nn.GELU(approximate=\"tanh\"),\n",
        "            torch.nn.Linear(cfg[\"n_features\"] * cfg[\"window\"], cfg[\"n_features\"]),\n",
        "        )\n",
        "\n",
        "\n",
        "    def forward(self, inp):\n",
        "        return self.layer(inp)\n",
        "\n",
        "class TransformerBlock(torch.nn.Module):\n",
        "    def __init__(self, cfg):\n",
        "        super().__init__()\n",
        "\n",
        "        self.attention = MultiHeadMaskAttention(dim_in=cfg[\"n_features\"], dim_out=cfg[\"n_features\"], num_heads=cfg[\"num_heads\"],\n",
        "                                                window=cfg[\"window\"], bias=cfg[\"qkv_bias\"])\n",
        "        self.forward_layer = FeedForwardLayer(cfg)\n",
        "        self.norm1 = LayerNorm(cfg[\"n_features\"])\n",
        "        self.norm2 = LayerNorm(cfg[\"n_features\"])\n",
        "        self.dropout = torch.nn.Dropout(cfg[\"drop_rate\"])\n",
        "\n",
        "    def forward(self, inp):\n",
        "        shortcut = inp\n",
        "        inp = self.norm1(inp)\n",
        "        inp = self.attention(inp)\n",
        "        inp = inp + shortcut\n",
        "\n",
        "        shortcut = inp\n",
        "        inp = self.norm2(inp)\n",
        "        inp = self.forward_layer(inp)\n",
        "        out = self.dropout(inp)\n",
        "        return out + shortcut"
      ]
    },
    {
      "cell_type": "code",
      "execution_count": null,
      "metadata": {
        "id": "gbw_PN7jjuR7"
      },
      "outputs": [],
      "source": [
        "class JaneStreetModelV1(torch.nn.Module):\n",
        "    def __init__(self, cfg):\n",
        "        super().__init__()\n",
        "        self.blocks = torch.nn.Sequential(\n",
        "            *[TransformerBlock(cfg) for _ in range(cfg[\"n_layers\"])]\n",
        "        )\n",
        "        self.norm =  LayerNorm(cfg[\"n_features\"])\n",
        "        self.final_norm = LayerNorm(cfg[\"n_features\"])\n",
        "        self.out_proj = torch.nn.Linear(cfg[\"n_features\"], 1, bias=False)\n",
        "\n",
        "    def forward(self, inp):\n",
        "        inp = self.blocks(self.norm(inp))\n",
        "        inp = inp.mean(dim=1)/0.1\n",
        "        inp = self.final_norm(inp)\n",
        "\n",
        "        return self.out_proj(inp)"
      ]
    },
    {
      "cell_type": "code",
      "execution_count": null,
      "metadata": {
        "id": "8sySoSIIj0pO"
      },
      "outputs": [],
      "source": [
        "MODEL_CONFIG = {\n",
        "    \"n_features\": cfg[\"dim\"],\n",
        "    \"window\": cfg[\"window\"],\n",
        "    \"num_heads\": 3,\n",
        "    \"n_layers\": 3,\n",
        "    \"drop_rate\": 0.05,\n",
        "    \"qkv_bias\": False\n",
        "}"
      ]
    },
    {
      "cell_type": "code",
      "execution_count": null,
      "metadata": {
        "id": "28ql-FYIj0l1"
      },
      "outputs": [],
      "source": [
        "def calc_loss_batch(inp, targets, device):\n",
        "    inp = inp.to(device)\n",
        "    targets = targets.to(device)\n",
        "    outputs = model(inp)\n",
        "    loss = torch.nn.functional.l1_loss(outputs, targets)\n",
        "\n",
        "    return loss.item(), outputs\n",
        "\n",
        "def evaluate_model(val_loader, num_batch, device, choices):\n",
        "    total_loss = 0\n",
        "    for i, (inp, targets) in enumerate(val_loader):\n",
        "        if i < num_batch:\n",
        "            with torch.no_grad():\n",
        "                loss, outputs = calc_loss_batch(\n",
        "                    inp=inp, targets=targets, device=device\n",
        "                )\n",
        "            total_loss += loss\n",
        "        else:\n",
        "            break\n",
        "    outputs = outputs.flatten().detach().cpu().numpy()\n",
        "    targets = targets.flatten().detach().cpu().numpy()\n",
        "    print(f\"Sample predictions range: (max:{max(outputs)}, min:{min(outputs)}) - Targets range: (max:{max(targets)}, min:{min(targets)})\")\n",
        "    return total_loss/num_batch\n",
        "\n",
        "def train_epoch(train_loader, device, freq, choices, global_step,\n",
        "                half_loops, start_lr, min_lr):\n",
        "    last_loss, running_loss = 0., 0.\n",
        "    time_step = 0.\n",
        "    scores = []\n",
        "    total_len = len(train_loader)\n",
        "\n",
        "    for batch, (input_batch, targets_batch) in enumerate(train_loader):\n",
        "        #compute time per step\n",
        "        start_time = time.time()\n",
        "        #transfer data to device\n",
        "        input_batch = input_batch.to(device)\n",
        "        targets_batch = targets_batch.to(device)\n",
        "        #zero gradients for every batch\n",
        "        optimizer.zero_grad()\n",
        "        global_step += 1\n",
        "        if global_step <= half_loops:\n",
        "            # Apply cosine decay to halfway point\n",
        "            optimizer.param_groups[0][\"lr\"] = min_lr + 0.5 * (start_lr - min_lr) * (1 + math.cos(math.pi * global_step / half_loops))\n",
        "        else:\n",
        "            # Maintain the minimum learning rate beyond halfway point\n",
        "            optimizer.param_groups[0][\"lr\"] = min_lr\n",
        "        outputs = model(input_batch)\n",
        "        loss = torch.nn.functional.smooth_l1_loss(outputs, targets_batch)\n",
        "        loss.backward()\n",
        "        optimizer.step()\n",
        "        time_step += time.time() - start_time\n",
        "\n",
        "        running_loss += loss.item()\n",
        "        if batch % freq == freq-1:\n",
        "            last_loss = running_loss / freq\n",
        "            print(f\"Batch {batch}/{total_len} - {time_step/freq:.3f}s/step - loss: {last_loss} - lr: {optimizer.param_groups[0]['lr']}\")\n",
        "            # print(f\"Model prediction: {outputs[choices].flatten().detach().cpu().numpy()} - Target: {targets_batch[choices].flatten().cpu().numpy()} \")\n",
        "            running_loss = 0.\n",
        "            time_step = 0.\n",
        "            scores.append(last_loss)\n",
        "\n",
        "    return np.mean(scores), global_step\n",
        "\n",
        "def train_model(epochs, train_loader, freq, device, frac=4, min_lr=5e-4, num_batch=None, val_loader=None):\n",
        "\n",
        "    global_step = -1\n",
        "    total_loops = len(train_loader) * epochs\n",
        "    half_loops = total_loops // frac\n",
        "    start_lr = optimizer.param_groups[0][\"lr\"]\n",
        "    history = {\"loss\": []}\n",
        "\n",
        "    choices = random.choices(range(cfg[\"batch_size\"]-10),k=3)\n",
        "    for i in range(epochs):\n",
        "        print(f\"Epoch {i+1}/{epochs}\")\n",
        "        #set model to training mode\n",
        "        model.train(True)\n",
        "        #train model\n",
        "        avg_loss, global_step = train_epoch(\n",
        "            train_loader=train_loader, device=device, freq=freq, choices=choices,\n",
        "            global_step=global_step, half_loops=half_loops, start_lr=start_lr, min_lr=min_lr\n",
        "        )\n",
        "\n",
        "        if val_loader:\n",
        "            model.eval()\n",
        "            avg_vloss = evaluate_model(\n",
        "                val_loader=val_loader, num_batch=num_batch, choices=choices, device=device\n",
        "            )\n",
        "            history[\"val_loss\"] = history.get('val_loss', []) + [avg_vloss]\n",
        "            print(f\"train loss: {avg_loss} - val loss: {avg_vloss}\")\n",
        "        else:\n",
        "            print(f\"train loss: {avg_loss}\")\n",
        "        history[\"loss\"].append(avg_loss)\n",
        "\n",
        "    return history"
      ]
    },
    {
      "cell_type": "code",
      "execution_count": null,
      "metadata": {
        "colab": {
          "base_uri": "https://localhost:8080/"
        },
        "id": "zH57Z-xhjuGm",
        "outputId": "10a9c9a7-9c5e-4287-bf78-0590cf0c3c6f"
      },
      "outputs": [
        {
          "output_type": "stream",
          "name": "stderr",
          "text": [
            "Processing financial instruments: 100%|██████████| 5/5 [00:01<00:00,  4.24it/s]\n",
            "Processing financial instruments: 100%|██████████| 2/2 [00:00<00:00,  9.08it/s]"
          ]
        },
        {
          "output_type": "stream",
          "name": "stdout",
          "text": [
            "Epoch 1/5\n"
          ]
        },
        {
          "output_type": "stream",
          "name": "stderr",
          "text": [
            "\n"
          ]
        },
        {
          "output_type": "stream",
          "name": "stdout",
          "text": [
            "Batch 1656/3315 - 0.031s/step - loss: 0.25794396053113866 - lr: 0.0048851891838657645\n",
            "Batch 3313/3315 - 0.031s/step - loss: 0.38412463339129954 - lr: 0.004551713416133383\n",
            "Sample predictions range: (max:0.061705633997917175, min:0.0614115409553051) - Targets range: (max:1.2034406661987305, min:-1.0122123956680298)\n",
            "train loss: 0.3210342969612191 - val loss: 0.5410485474333973\n",
            "Epoch 2/5\n",
            "Batch 1656/3315 - 0.031s/step - loss: 0.25277441025834685 - lr: 0.004031835808714234\n",
            "Batch 3313/3315 - 0.031s/step - loss: 0.3834071728262059 - lr: 0.0033770371130113874\n",
            "Sample predictions range: (max:0.015770450234413147, min:0.015451339073479176) - Targets range: (max:1.2034406661987305, min:-1.0122123956680298)\n",
            "train loss: 0.3180907915422764 - val loss: 0.5353807476097534\n",
            "Epoch 3/5\n",
            "Batch 1656/3315 - 0.032s/step - loss: 0.252038382313579 - lr: 0.002650668121505564\n",
            "Batch 3313/3315 - 0.046s/step - loss: 0.38239276342770656 - lr: 0.0019246573438016408\n",
            "Sample predictions range: (max:0.03428139165043831, min:0.03399424999952316) - Targets range: (max:1.2034406661987305, min:-1.0122123956680298)\n",
            "train loss: 0.3172155728706428 - val loss: 0.5372347638943796\n",
            "Epoch 4/5\n",
            "Batch 1656/3315 - 0.067s/step - loss: 0.2512627435672756 - lr: 0.0012692452345903832\n",
            "Batch 3313/3315 - 0.065s/step - loss: 0.38161996495446293 - lr: 0.0007493338157695376\n",
            "Sample predictions range: (max:0.002586789894849062, min:-0.001445181667804718) - Targets range: (max:1.2034406661987305, min:-1.0122123956680298)\n",
            "train loss: 0.3164413542608693 - val loss: 0.5342361386915208\n",
            "Epoch 5/5\n",
            "Batch 1656/3315 - 0.071s/step - loss: 0.250691715273815 - lr: 0.0004152237379332881\n",
            "Batch 3313/3315 - 0.073s/step - loss: 0.38112152245920883 - lr: 0.0003000001688459018\n",
            "Sample predictions range: (max:-0.03257576748728752, min:-0.032679926604032516) - Targets range: (max:1.2034406661987305, min:-1.0122123956680298)\n",
            "train loss: 0.31590661886651195 - val loss: 0.5334722191501965\n",
            "Epochs(5): Train error: 0.3177377 - Validation Error: 0.5362745\n",
            "\n"
          ]
        },
        {
          "output_type": "stream",
          "name": "stderr",
          "text": [
            "Processing financial instruments: 100%|██████████| 5/5 [00:00<00:00, 15.36it/s]\n",
            "Processing financial instruments: 100%|██████████| 2/2 [00:00<00:00, 16.94it/s]"
          ]
        },
        {
          "output_type": "stream",
          "name": "stdout",
          "text": [
            "Epoch 1/5\n"
          ]
        },
        {
          "output_type": "stream",
          "name": "stderr",
          "text": [
            "\n"
          ]
        },
        {
          "output_type": "stream",
          "name": "stdout",
          "text": [
            "Batch 1918/3839 - 0.031s/step - loss: 0.2584147454902371 - lr: 0.0048851610261928325\n",
            "Batch 3837/3839 - 0.031s/step - loss: 0.33922057570049996 - lr: 0.004551641980509005\n",
            "Sample predictions range: (max:0.05637091398239136, min:0.056153640151023865) - Targets range: (max:2.456125020980835, min:-1.7709866762161255)\n",
            "train loss: 0.2988176605953685 - val loss: 0.586731029940503\n",
            "Epoch 2/5\n",
            "Batch 1918/3839 - 0.031s/step - loss: 0.2553743210212542 - lr: 0.004031762045018622\n",
            "Batch 3837/3839 - 0.031s/step - loss: 0.33867703605959615 - lr: 0.003376921484795971\n",
            "Sample predictions range: (max:0.03263546898961067, min:0.03232603520154953) - Targets range: (max:2.456125020980835, min:-1.7709866762161255)\n",
            "train loss: 0.29702567854042516 - val loss: 0.5837106507193918\n",
            "Epoch 3/5\n",
            "Batch 1918/3839 - 0.048s/step - loss: 0.2541602496222756 - lr: 0.002650576927011861\n",
            "Batch 3837/3839 - 0.072s/step - loss: 0.33738419753336746 - lr: 0.0019245416890434155\n",
            "Sample predictions range: (max:0.033794108778238297, min:0.03351673483848572) - Targets range: (max:2.456125020980835, min:-1.7709866762161255)\n",
            "train loss: 0.2957722235778215 - val loss: 0.5838577974632028\n",
            "Epoch 4/5\n",
            "Batch 1918/3839 - 0.072s/step - loss: 0.2535435484017092 - lr: 0.0012691714424955963\n",
            "Batch 3837/3839 - 0.065s/step - loss: 0.336416866826869 - lr: 0.0007492623106551851\n",
            "Sample predictions range: (max:0.0031666522845625877, min:0.0018796268850564957) - Targets range: (max:2.456125020980835, min:-1.7709866762161255)\n",
            "train loss: 0.2949802076142891 - val loss: 0.5809337576751464\n",
            "Epoch 5/5\n",
            "Batch 1918/3839 - 0.057s/step - loss: 0.25301865828813186 - lr: 0.00041519553430952527\n",
            "Batch 3837/3839 - 0.055s/step - loss: 0.33607104198289856 - lr: 0.0003000001258987351\n",
            "Sample predictions range: (max:-0.030178213492035866, min:-0.03029322437942028) - Targets range: (max:2.456125020980835, min:-1.7709866762161255)\n",
            "train loss: 0.29454485013551523 - val loss: 0.5796822658407369\n",
            "Epochs(5): Train error: 0.2962281 - Validation Error: 0.5829831\n",
            "\n"
          ]
        },
        {
          "output_type": "stream",
          "name": "stderr",
          "text": [
            "Processing financial instruments: 100%|██████████| 6/6 [00:00<00:00, 15.95it/s]\n",
            "Processing financial instruments: 100%|██████████| 1/1 [00:00<00:00,  8.71it/s]"
          ]
        },
        {
          "output_type": "stream",
          "name": "stdout",
          "text": [
            "Epoch 1/5\n"
          ]
        },
        {
          "output_type": "stream",
          "name": "stderr",
          "text": [
            "\n"
          ]
        },
        {
          "output_type": "stream",
          "name": "stdout",
          "text": [
            "Batch 2127/4257 - 0.031s/step - loss: 0.22716895180130273 - lr: 0.00488514353321612\n",
            "Batch 4255/4257 - 0.031s/step - loss: 0.3634663201339851 - lr: 0.004551597602806891\n",
            "Sample predictions range: (max:0.04318586736917496, min:0.04310367628931999) - Targets range: (max:0.8303977847099304, min:-0.7144448757171631)\n",
            "train loss: 0.29531763596764393 - val loss: 0.611427594671486\n",
            "Epoch 2/5\n",
            "Batch 2127/4257 - 0.031s/step - loss: 0.22324376214576597 - lr: 0.004031716222656295\n",
            "Batch 4255/4257 - 0.031s/step - loss: 0.36289237930808793 - lr: 0.003376849656655163\n",
            "Sample predictions range: (max:0.06142653152346611, min:0.06133522093296051) - Targets range: (max:0.8303977847099304, min:-0.7144448757171631)\n",
            "train loss: 0.293068070726927 - val loss: 0.6141448232316148\n",
            "Epoch 3/5\n",
            "Batch 2127/4257 - 0.043s/step - loss: 0.2227911391755902 - lr: 0.002650520277848881\n",
            "Batch 4255/4257 - 0.062s/step - loss: 0.3616266305378071 - lr: 0.0019244698463723533\n",
            "Sample predictions range: (max:0.03156397491693497, min:0.03154434636235237) - Targets range: (max:0.8303977847099304, min:-0.7144448757171631)\n",
            "train loss: 0.29220888485669866 - val loss: 0.6099413330340205\n",
            "Epoch 4/5\n",
            "Batch 2127/4257 - 0.069s/step - loss: 0.22162218508201204 - lr: 0.0012691256045867887\n",
            "Batch 4255/4257 - 0.068s/step - loss: 0.3609070025657521 - lr: 0.000749217894912372\n",
            "Sample predictions range: (max:-0.011630261316895485, min:-0.011712577193975449) - Targets range: (max:0.8303977847099304, min:-0.7144448757171631)\n",
            "train loss: 0.29126459382388203 - val loss: 0.6061493442700262\n",
            "Epoch 5/5\n",
            "Batch 2127/4257 - 0.069s/step - loss: 0.22097073555565125 - lr: 0.00041517801617808176\n",
            "Batch 4255/4257 - 0.069s/step - loss: 0.3607418584782644 - lr: 0.0003000001023882903\n",
            "Sample predictions range: (max:-0.02502075955271721, min:-0.02528882957994938) - Targets range: (max:0.8303977847099304, min:-0.7144448757171631)\n",
            "train loss: 0.2908562970169578 - val loss: 0.6055314974234457\n",
            "Epochs(5): Train error: 0.2925431 - Validation Error: 0.6094389\n",
            "\n"
          ]
        },
        {
          "output_type": "stream",
          "name": "stderr",
          "text": [
            "Processing financial instruments: 100%|██████████| 6/6 [00:00<00:00, 15.38it/s]\n",
            "Processing financial instruments: 100%|██████████| 1/1 [00:00<00:00, 15.23it/s]"
          ]
        },
        {
          "output_type": "stream",
          "name": "stdout",
          "text": [
            "Epoch 1/5\n"
          ]
        },
        {
          "output_type": "stream",
          "name": "stderr",
          "text": [
            "\n"
          ]
        },
        {
          "output_type": "stream",
          "name": "stdout",
          "text": [
            "Batch 2261/4524 - 0.031s/step - loss: 0.23419909792166668 - lr: 0.004885083649075089\n",
            "Batch 4523/4524 - 0.031s/step - loss: 0.34972443348117943 - lr: 0.0045513817605000555\n",
            "Sample predictions range: (max:0.02579309418797493, min:0.025751858949661255) - Targets range: (max:1.9167118072509766, min:-1.7265043258666992)\n",
            "train loss: 0.29196176570142307 - val loss: 0.6356005346458969\n",
            "Epoch 2/5\n",
            "Batch 2261/4524 - 0.030s/step - loss: 0.2303405585694666 - lr: 0.004031559377501569\n",
            "Batch 4523/4524 - 0.040s/step - loss: 0.3491122608215513 - lr: 0.0033765003367430295\n",
            "Sample predictions range: (max:0.0391886867582798, min:0.039162907749414444) - Targets range: (max:1.9167118072509766, min:-1.7265043258666992)\n",
            "train loss: 0.28972640969550895 - val loss: 0.6374043091454289\n",
            "Epoch 3/5\n",
            "Batch 2261/4524 - 0.071s/step - loss: 0.22964813391625336 - lr: 0.002650326381198594\n",
            "Batch 4523/4524 - 0.066s/step - loss: 0.3482623181604738 - lr: 0.0019241204771884095\n",
            "Sample predictions range: (max:0.03774699568748474, min:0.03769557923078537) - Targets range: (max:1.9167118072509766, min:-1.7265043258666992)\n",
            "train loss: 0.2889552260383636 - val loss: 0.6371941373429515\n",
            "Epoch 4/5\n",
            "Batch 2261/4524 - 0.041s/step - loss: 0.22886048948431797 - lr: 0.0012689687183710463\n",
            "Batch 4523/4524 - 0.037s/step - loss: 0.34766657926285494 - lr: 0.0007490019236102629\n",
            "Sample predictions range: (max:-0.021341249346733093, min:-0.021355804055929184) - Targets range: (max:1.9167118072509766, min:-1.7265043258666992)\n",
            "train loss: 0.2882635343735864 - val loss: 0.6313502865984585\n",
            "Epoch 5/5\n",
            "Batch 2261/4524 - 0.041s/step - loss: 0.22821113068666424 - lr: 0.000415118065598931\n",
            "Batch 4523/4524 - 0.040s/step - loss: 0.3471799000836645 - lr: 0.00030000002266482697\n",
            "Sample predictions range: (max:-0.03298912197351456, min:-0.0329999104142189) - Targets range: (max:1.9167118072509766, min:-1.7265043258666992)\n",
            "train loss: 0.28769551538516436 - val loss: 0.630804441395131\n",
            "Epochs(5): Train error: 0.2893205 - Validation Error: 0.6344707\n",
            "\n"
          ]
        },
        {
          "output_type": "stream",
          "name": "stderr",
          "text": [
            "Processing financial instruments: 100%|██████████| 6/6 [00:00<00:00, 14.93it/s]\n",
            "Processing financial instruments: 100%|██████████| 1/1 [00:00<00:00, 27.73it/s]"
          ]
        },
        {
          "output_type": "stream",
          "name": "stdout",
          "text": [
            "Epoch 1/5\n"
          ]
        },
        {
          "output_type": "stream",
          "name": "stderr",
          "text": [
            "\n"
          ]
        },
        {
          "output_type": "stream",
          "name": "stdout",
          "text": [
            "Batch 2400/4802 - 0.031s/step - loss: 0.23611080307771035 - lr: 0.00488507781261079\n",
            "Batch 4801/4802 - 0.031s/step - loss: 0.3374441459915387 - lr: 0.00455137065633696\n",
            "Sample predictions range: (max:-0.04108825698494911, min:-0.04109256714582443) - Targets range: (max:3.601442337036133, min:-2.6143953800201416)\n",
            "train loss: 0.28677747453462454 - val loss: 0.7604226353358848\n",
            "Epoch 2/5\n",
            "Batch 2400/4802 - 0.031s/step - loss: 0.23229660125339138 - lr: 0.004031544092592529\n",
            "Batch 4801/4802 - 0.033s/step - loss: 0.3367137046905544 - lr: 0.0033764823672814384\n",
            "Sample predictions range: (max:-0.0196701530367136, min:-0.019703224301338196) - Targets range: (max:3.601442337036133, min:-2.6143953800201416)\n",
            "train loss: 0.2845051529719729 - val loss: 0.7607333328945475\n",
            "Epoch 3/5\n",
            "Batch 2400/4802 - 0.031s/step - loss: 0.23181738299176077 - lr: 0.002650307486160553\n",
            "Batch 4801/4802 - 0.033s/step - loss: 0.33575516954407264 - lr: 0.0019241025061518906\n",
            "Sample predictions range: (max:-0.002344737062230706, min:-0.0023535408545285463) - Targets range: (max:3.601442337036133, min:-2.6143953800201416)\n",
            "train loss: 0.2837862762679167 - val loss: 0.7614016593750859\n",
            "Epoch 4/5\n",
            "Batch 2400/4802 - 0.035s/step - loss: 0.2309288619823524 - lr: 0.0012689534304663162\n",
            "Batch 4801/4802 - 0.045s/step - loss: 0.3348250007636997 - lr: 0.0007489908153239535\n",
            "Sample predictions range: (max:0.012354625388979912, min:0.012351819314062595) - Targets range: (max:3.601442337036133, min:-2.6143953800201416)\n",
            "train loss: 0.28287693137302605 - val loss: 0.7622354337604258\n",
            "Epoch 5/5\n",
            "Batch 2400/4802 - 0.046s/step - loss: 0.2303416147627951 - lr: 0.00041511222428750207\n",
            "Batch 4801/4802 - 0.043s/step - loss: 0.334383962191843 - lr: 0.00030000002011654013\n",
            "Sample predictions range: (max:0.003923117183148861, min:0.0038543622940778732) - Targets range: (max:3.601442337036133, min:-2.6143953800201416)\n",
            "train loss: 0.28236278847731905 - val loss: 0.7617263656636183\n",
            "Epochs(5): Train error: 0.2840617 - Validation Error: 0.7613039\n",
            "\n",
            "KFold Cross Validation: 5 - Mean Train error: 0.2942732 - Mean Validation error: 0.6222434\n"
          ]
        }
      ],
      "source": [
        "cfg[\"frac\"] = 0.08\n",
        "folds = 5\n",
        "kfold = KFold(n_splits=folds, random_state=123, shuffle=True)\n",
        "paths = np.array(train_paths[:7])\n",
        "historys = {\"val_loss\": [], \"loss\": [], \"val_score\":[], \"score\":[]}\n",
        "for train_path, test_path in kfold.split(paths):\n",
        "    train = create_dataloader_v1(paths[train_path], cfg)\n",
        "    test = create_dataloader_v1(paths[test_path], cfg)\n",
        "\n",
        "    torch.manual_seed(11) #11 #32\n",
        "    model = JaneStreetModelV1(MODEL_CONFIG)\n",
        "    model.apply(init_weights)\n",
        "    model.to(cfg[\"device\"])\n",
        "    optimizer = torch.optim.AdamW(\n",
        "        model.parameters(), lr=5e-3, weight_decay=0.8#1e-4\n",
        "    )\n",
        "    num_epochs = 5\n",
        "    history = train_model(epochs=num_epochs, train_loader=train, val_loader=test, frac=1, freq=len(train)//2, min_lr=3e-4,\n",
        "                          num_batch=len(test), device=cfg[\"device\"])\n",
        "\n",
        "    print(f'Epochs({num_epochs}): Train error: {np.mean(history[\"loss\"]):.7f} - Validation Error: {np.mean(history[\"val_loss\"]):.7f}')\n",
        "    print()\n",
        "    historys[\"val_score\"].append(history[\"val_loss\"][-1])\n",
        "    historys[\"score\"].append(history[\"loss\"][-1])\n",
        "    historys[\"val_loss\"].append(history[\"val_loss\"])\n",
        "    historys[\"loss\"].append(history[\"loss\"])\n",
        "\n",
        "print(f\"\"\"KFold Cross Validation: {folds} - Mean Train error: {np.mean(historys[\"score\"]):.7f} - Mean Validation error: {np.mean(historys[\"val_score\"]):.7f}\"\"\")"
      ]
    },
    {
      "cell_type": "code",
      "execution_count": null,
      "metadata": {
        "colab": {
          "base_uri": "https://localhost:8080/"
        },
        "id": "mLzQc5bIdugV",
        "outputId": "1c8157fc-5a01-4b98-caff-1ea2ad3f3635"
      },
      "outputs": [
        {
          "output_type": "execute_result",
          "data": {
            "text/plain": [
              "{'n_features': 32,\n",
              " 'window': 4,\n",
              " 'num_heads': 3,\n",
              " 'n_layers': 3,\n",
              " 'drop_rate': 0.05,\n",
              " 'qkv_bias': False}"
            ]
          },
          "metadata": {},
          "execution_count": 26
        }
      ],
      "source": [
        "MODEL_CONFIG"
      ]
    },
    {
      "cell_type": "code",
      "execution_count": null,
      "metadata": {
        "colab": {
          "base_uri": "https://localhost:8080/"
        },
        "id": "tomnGJLajt6M",
        "outputId": "1cbf6fb6-d2b6-429f-c30e-69b1f723d37a"
      },
      "outputs": [
        {
          "output_type": "stream",
          "name": "stdout",
          "text": [
            "blocks.0.attention.pos_emb.weight: grad_mean=-1.2565416795951023e-07, grad_std=1.0423489129607333e-06\n",
            "blocks.0.attention.W_query.weight: grad_mean=-3.386641011030034e-16, grad_std=1.2111802880077072e-11\n",
            "blocks.0.attention.W_key.weight: grad_mean=-2.0102914850678826e-19, grad_std=6.099321568642235e-12\n",
            "blocks.0.attention.W_value.weight: grad_mean=-1.2936733628787778e-10, grad_std=1.1523750345077133e-06\n",
            "blocks.0.attention.out_proj.weight: grad_mean=-2.980948821118545e-14, grad_std=4.649108177545713e-06\n",
            "blocks.0.forward_layer.layer.0.weight: grad_mean=7.363554210826351e-14, grad_std=8.127484463216206e-09\n",
            "blocks.0.forward_layer.layer.2.weight: grad_mean=-1.2647220076766885e-11, grad_std=1.7415377584484304e-08\n",
            "blocks.1.attention.pos_emb.weight: grad_mean=8.010634644506354e-08, grad_std=1.2937704241267056e-06\n",
            "blocks.1.attention.W_query.weight: grad_mean=3.8590368443674734e-16, grad_std=1.3526578468425754e-10\n",
            "blocks.1.attention.W_key.weight: grad_mean=-3.614007155453701e-19, grad_std=1.3955192557091323e-10\n",
            "blocks.1.attention.W_value.weight: grad_mean=-5.126565838509123e-12, grad_std=1.4628923281634343e-06\n",
            "blocks.1.attention.out_proj.weight: grad_mean=-3.8191672047105385e-14, grad_std=9.84017151495209e-06\n",
            "blocks.1.forward_layer.layer.0.weight: grad_mean=-1.1791262410909553e-13, grad_std=5.65277202824177e-09\n",
            "blocks.1.forward_layer.layer.2.weight: grad_mean=-1.0198454494098064e-12, grad_std=6.026979360029827e-09\n",
            "blocks.2.attention.pos_emb.weight: grad_mean=-8.820718022661822e-08, grad_std=4.0004559309636534e-07\n",
            "blocks.2.attention.W_query.weight: grad_mean=-5.425709248306823e-16, grad_std=1.9945158372114413e-11\n",
            "blocks.2.attention.W_key.weight: grad_mean=-4.517508944317126e-20, grad_std=2.374821346518008e-11\n",
            "blocks.2.attention.W_value.weight: grad_mean=4.650028626040914e-11, grad_std=4.582758492688299e-07\n",
            "blocks.2.attention.out_proj.weight: grad_mean=-3.180233854038761e-13, grad_std=4.376153083285317e-05\n",
            "blocks.2.forward_layer.layer.0.weight: grad_mean=1.34781075189494e-12, grad_std=5.138240766200397e-08\n",
            "blocks.2.forward_layer.layer.2.weight: grad_mean=-6.626687393262998e-11, grad_std=1.7599743884488817e-08\n",
            "out_proj.weight: grad_mean=-1.5605241060256958e-05, grad_std=0.2964359521865845\n"
          ]
        }
      ],
      "source": [
        "def log_gradients(model):\n",
        "    for name, param in model.named_parameters():\n",
        "        if param.grad is not None and \"weight\" in name:\n",
        "            print(f\"{name}: grad_mean={param.grad.mean().item()}, grad_std={param.grad.std().item()}\")\n",
        "\n",
        "log_gradients(model)"
      ]
    },
    {
      "cell_type": "code",
      "execution_count": null,
      "metadata": {
        "colab": {
          "base_uri": "https://localhost:8080/",
          "height": 778
        },
        "id": "iWWGCx0ikCCT",
        "outputId": "42bd2024-ca1e-4b95-c837-306dfbc32242"
      },
      "outputs": [
        {
          "output_type": "display_data",
          "data": {
            "text/plain": [
              "<Figure size 1300x800 with 6 Axes>"
            ],
            "image/png": "[encoded data removed]"
          },
          "metadata": {}
        }
      ],
      "source": [
        "def plot_losses(epochs, train_loss, val_loss):\n",
        "    plots = len(train_loss)  # Number of distinct plots\n",
        "    rows, cols = 2, 3  # Define grid dimensions (2 rows, 3 columns)\n",
        "\n",
        "    fig, axes = plt.subplots(figsize=(13, 8), nrows=rows, ncols=cols, sharex=True)\n",
        "    axes = axes.flatten()  # Flatten the axes array for easier indexing\n",
        "    for i in range(plots):\n",
        "        # axes[i].plot(range(epochs), train_loss[i], label=\"Training loss\", c=\"b\")\n",
        "        axes[i].plot(range(epochs), val_loss[i], linestyle=\"-.\", label=\"Validation loss\", c=\"r\")\n",
        "        axes[i].set_ylabel(\"Loss\")\n",
        "        axes[i].set_title(f\"K-Fold {i+1}\")\n",
        "        axes[i].legend(loc=\"best\")\n",
        "    for i in range(plots, len(axes)):\n",
        "        axes[i].axis('off')\n",
        "\n",
        "    fig.tight_layout()\n",
        "    plt.show()\n",
        "\n",
        "# Example usage\n",
        "plot_losses(epochs=num_epochs, train_loss=historys[\"loss\"], val_loss=historys[\"val_loss\"])"
      ]
    },
    {
      "cell_type": "code",
      "execution_count": null,
      "metadata": {
        "colab": {
          "base_uri": "https://localhost:8080/"
        },
        "id": "lWtKYc5tTouE",
        "outputId": "60c03305-58b5-4f1f-d04c-3f4220efd4b1"
      },
      "outputs": [
        {
          "output_type": "stream",
          "name": "stdout",
          "text": [
            "Sample predictions range: (max:0.004927477799355984, min:0.004917011596262455) - Targets range: (max:3.601442337036133, min:-1.8865545988082886)\n"
          ]
        },
        {
          "output_type": "execute_result",
          "data": {
            "text/plain": [
              "0.7612997194521554"
            ]
          },
          "metadata": {},
          "execution_count": 15
        }
      ],
      "source": [
        "evaluate_model(test, len(test), cfg[\"device\"], choices=np.random.choice(64, 3).tolist())"
      ]
    },
    {
      "cell_type": "code",
      "execution_count": null,
      "metadata": {
        "colab": {
          "base_uri": "https://localhost:8080/"
        },
        "id": "U6NulBdtkBku",
        "outputId": "9bd8d55d-b633-44b8-f590-b21819212edc"
      },
      "outputs": [
        {
          "output_type": "stream",
          "name": "stdout",
          "text": [
            "Predictions: (max:0.00494, min:0.00492), Targets: (max:1.02938, min:-3.28660)\n",
            "Predictions: (max:0.00494, min:0.00492), Targets: (max:4.49993, min:-1.51084)\n",
            "Predictions: (max:0.00492, min:0.00492), Targets: (max:1.05039, min:-1.93420)\n",
            "Predictions: (max:0.00493, min:0.00492), Targets: (max:1.44193, min:-1.66083)\n",
            "Predictions: (max:0.00493, min:0.00492), Targets: (max:1.24467, min:-1.75284)\n",
            "Predictions: (max:0.00493, min:0.00492), Targets: (max:1.75757, min:-0.41993)\n",
            "Predictions: (max:0.00493, min:0.00492), Targets: (max:1.79568, min:-1.84550)\n",
            "Predictions: (max:0.00494, min:0.00492), Targets: (max:2.32729, min:-3.00819)\n",
            "Predictions: (max:0.00494, min:0.00492), Targets: (max:2.82608, min:-1.55942)\n",
            "Predictions: (max:0.00493, min:0.00492), Targets: (max:2.63445, min:-3.56409)\n",
            "Predictions: (max:0.00499, min:0.00492), Targets: (max:5.00000, min:-3.31374)\n",
            "Predictions: (max:0.00493, min:0.00492), Targets: (max:2.16331, min:-1.07440)\n",
            "Predictions: (max:0.00493, min:0.00491), Targets: (max:0.60004, min:-1.58540)\n",
            "Predictions: (max:0.00493, min:0.00492), Targets: (max:1.18293, min:-0.72016)\n",
            "Predictions: (max:0.00493, min:0.00492), Targets: (max:1.08114, min:-2.62323)\n",
            "Predictions: (max:0.00493, min:0.00491), Targets: (max:1.97544, min:-1.44687)\n",
            "Predictions: (max:0.00492, min:0.00492), Targets: (max:1.22736, min:-0.61982)\n",
            "Predictions: (max:0.00495, min:0.00492), Targets: (max:1.08984, min:-1.52067)\n",
            "Predictions: (max:0.00492, min:0.00492), Targets: (max:0.55521, min:-1.35140)\n",
            "Predictions: (max:0.00495, min:0.00492), Targets: (max:3.15899, min:-1.74765)\n",
            "Predictions: (max:0.00495, min:0.00492), Targets: (max:4.59190, min:-2.03808)\n",
            "Predictions: (max:0.00492, min:0.00492), Targets: (max:0.91607, min:-2.01765)\n",
            "Predictions: (max:0.00493, min:0.00492), Targets: (max:1.04947, min:-1.63284)\n",
            "Predictions: (max:0.00493, min:0.00492), Targets: (max:1.91115, min:-1.52190)\n",
            "Predictions: (max:0.00492, min:0.00492), Targets: (max:1.24334, min:-0.99749)\n",
            "Predictions: (max:0.00492, min:0.00492), Targets: (max:0.31374, min:-1.17571)\n",
            "Predictions: (max:0.00493, min:0.00492), Targets: (max:0.74494, min:-0.52862)\n",
            "Predictions: (max:0.00492, min:0.00492), Targets: (max:0.63884, min:-0.76470)\n",
            "Predictions: (max:0.00492, min:0.00492), Targets: (max:1.00097, min:-0.63408)\n",
            "Predictions: (max:0.00493, min:0.00492), Targets: (max:1.97304, min:-2.06412)\n",
            "Predictions: (max:0.00494, min:0.00492), Targets: (max:1.83534, min:-2.11867)\n",
            "Predictions: (max:0.00494, min:0.00492), Targets: (max:2.96881, min:-1.27110)\n",
            "Predictions: (max:0.00493, min:0.00492), Targets: (max:0.79226, min:-1.29645)\n",
            "Predictions: (max:0.00493, min:0.00492), Targets: (max:2.23861, min:-0.12744)\n",
            "Predictions: (max:0.00494, min:0.00492), Targets: (max:1.07541, min:-1.37022)\n",
            "Predictions: (max:0.00493, min:0.00492), Targets: (max:1.81535, min:-0.85091)\n",
            "Predictions: (max:0.00493, min:0.00492), Targets: (max:0.52543, min:-2.91307)\n",
            "Predictions: (max:0.00493, min:0.00492), Targets: (max:2.03844, min:-1.52363)\n",
            "Predictions: (max:0.00493, min:0.00492), Targets: (max:3.17065, min:-0.81399)\n",
            "Predictions: (max:0.00494, min:0.00492), Targets: (max:1.25114, min:-4.45259)\n",
            "Predictions: (max:0.00495, min:0.00492), Targets: (max:2.75438, min:-4.04950)\n",
            "Predictions: (max:0.00493, min:0.00492), Targets: (max:0.67157, min:-2.38530)\n",
            "Predictions: (max:0.00493, min:0.00492), Targets: (max:2.11341, min:-2.94369)\n",
            "Predictions: (max:0.00493, min:0.00492), Targets: (max:0.96587, min:-1.35977)\n",
            "Predictions: (max:0.00493, min:0.00492), Targets: (max:1.42204, min:-2.30810)\n",
            "Predictions: (max:0.00493, min:0.00492), Targets: (max:1.34390, min:-1.11130)\n",
            "Predictions: (max:0.00493, min:0.00492), Targets: (max:0.42233, min:-0.78447)\n",
            "Predictions: (max:0.00494, min:0.00492), Targets: (max:1.89588, min:-4.13121)\n",
            "Predictions: (max:0.00493, min:0.00492), Targets: (max:1.12245, min:-1.47302)\n",
            "Predictions: (max:0.00493, min:0.00492), Targets: (max:0.85338, min:-0.64792)\n",
            "Predictions: (max:0.00494, min:0.00492), Targets: (max:3.92665, min:-1.64160)\n"
          ]
        }
      ],
      "source": [
        "for i, (inp, target) in enumerate(test):\n",
        "    with torch.no_grad():\n",
        "      inp, target = inp.to(cfg[\"device\"]), target.to(cfg[\"device\"])\n",
        "      preds = model(inp)\n",
        "    print(f\"Predictions: (max:{preds.max().item():.5f}, min:{preds.min().item():.5f}), Targets: (max:{target.max().item():.5f}, min:{target.min().item():.5f})\")\n",
        "    if i == 50:\n",
        "        break"
      ]
    },
    {
      "cell_type": "code",
      "execution_count": null,
      "metadata": {
        "id": "FxUPWuaZlZM4"
      },
      "outputs": [],
      "source": [
        "torch.manual_seed(11) #11 #32\n",
        "model = JaneStreetModelV1(MODEL_CONFIG)\n",
        "model.apply(init_weights)\n",
        "torch.save(\n",
        "    {\n",
        "        \"model_state_dict\": model.state_dict(),\n",
        "    },\n",
        "    \"/content/content/MyDrive/Kaggle Competitions/Jane Street/model_initial_weights.pth\"\n",
        ")"
      ]
    },
    {
      "cell_type": "markdown",
      "metadata": {
        "id": "wmZ09V4bkXPb"
      },
      "source": [
        "## Multiple Models"
      ]
    },
    {
      "cell_type": "code",
      "execution_count": null,
      "metadata": {
        "colab": {
          "background_save": true,
          "base_uri": "https://localhost:8080/"
        },
        "id": "h6eHW2NWkVpl",
        "outputId": "1b6efb79-040c-49bd-ac54-3b06182933ba"
      },
      "outputs": [
        {
          "name": "stderr",
          "output_type": "stream",
          "text": [
            "Model training:   0%|          | 0/15 [00:00<?, ?it/s]\n",
            "Processing financial instruments:   0%|          | 0/1 [00:00<?, ?it/s]\u001b[A\n",
            "Processing financial instruments: 100%|██████████| 1/1 [00:01<00:00,  1.55s/it]\n"
          ]
        },
        {
          "name": "stdout",
          "output_type": "stream",
          "text": [
            "Epoch 1/5\n",
            "Batch 3679/7360 - 0.026s/step - loss: 0.3211952166218037 - lr: 0.004885044799523537\n",
            "Batch 7359/7360 - 0.025s/step - loss: 0.3250752079925682 - lr: 0.004551307850160225\n",
            "train loss: 0.323135212307186\n",
            "Epoch 2/5\n",
            "Batch 3679/7360 - 0.026s/step - loss: 0.309794733740526 - lr: 0.004031457641232487\n",
            "Batch 7359/7360 - 0.026s/step - loss: 0.3233067619825622 - lr: 0.0033763807331995527\n",
            "train loss: 0.31655074786154414\n",
            "Epoch 3/5\n",
            "Batch 3679/7360 - 0.025s/step - loss: 0.3095426500381386 - lr: 0.002650200618008885\n",
            "Batch 7359/7360 - 0.025s/step - loss: 0.32167700195897614 - lr: 0.0019240008649297207\n",
            "train loss: 0.31560982599855736\n",
            "Epoch 4/5\n",
            "Batch 3679/7360 - 0.026s/step - loss: 0.30865454516340673 - lr: 0.0012688669655246444\n",
            "Batch 7359/7360 - 0.026s/step - loss: 0.32021788813188956 - lr: 0.0007489279904537092\n",
            "train loss: 0.31443621664764815\n",
            "Epoch 5/5\n",
            "Batch 3679/7360 - 0.027s/step - loss: 0.30833004359598776 - lr: 0.0004150791892247097\n"
          ]
        },
        {
          "name": "stderr",
          "output_type": "stream",
          "text": [
            "\rModel training:   7%|▋         | 1/15 [17:54<4:10:46, 1074.78s/it]"
          ]
        },
        {
          "name": "stdout",
          "output_type": "stream",
          "text": [
            "Batch 7359/7360 - 0.027s/step - loss: 0.3197382674748635 - lr: 0.00030000000856331594\n",
            "train loss: 0.31403415553542563\n",
            "Epochs: 5 - Train error: 0.3140342\n",
            "\n"
          ]
        },
        {
          "name": "stderr",
          "output_type": "stream",
          "text": [
            "\n",
            "Processing financial instruments:   0%|          | 0/1 [00:00<?, ?it/s]\u001b[A\n",
            "Processing financial instruments: 100%|██████████| 1/1 [00:01<00:00,  1.41s/it]"
          ]
        },
        {
          "name": "stdout",
          "output_type": "stream",
          "text": [
            "Epoch 1/5\n"
          ]
        },
        {
          "name": "stderr",
          "output_type": "stream",
          "text": [
            "\n"
          ]
        },
        {
          "name": "stdout",
          "output_type": "stream",
          "text": [
            "Batch 5865/11732 - 0.025s/step - loss: 0.33744037485301387 - lr: 0.00488502170188806\n",
            "Batch 11731/11732 - 0.025s/step - loss: 0.3186313017911128 - lr: 0.00455126391065363\n",
            "train loss: 0.32803583832206334\n",
            "Epoch 2/5\n",
            "Batch 5865/11732 - 0.027s/step - loss: 0.32414459381198546 - lr: 0.004031397160959823\n",
            "Batch 11731/11732 - 0.029s/step - loss: 0.3173255004437099 - lr: 0.0033763096323912987\n",
            "train loss: 0.32073504712784767\n",
            "Epoch 3/5\n",
            "Batch 5865/11732 - 0.029s/step - loss: 0.324072435412742 - lr: 0.002650125856507542\n",
            "Batch 11731/11732 - 0.027s/step - loss: 0.31706304794943935 - lr: 0.0019239297609119337\n",
            "train loss: 0.3205677416810907\n",
            "Epoch 4/5\n",
            "Batch 5865/11732 - 0.027s/step - loss: 0.32390275918343575 - lr: 0.0012688064791470865\n",
            "Batch 11731/11732 - 0.027s/step - loss: 0.3168375618638172 - lr: 0.0007488840425444474\n",
            "train loss: 0.32037016052362643\n",
            "Epoch 5/5\n",
            "Batch 5865/11732 - 0.028s/step - loss: 0.3237293071147344 - lr: 0.00041505608171130696\n"
          ]
        },
        {
          "name": "stderr",
          "output_type": "stream",
          "text": [
            "\rModel training:  13%|█▎        | 2/15 [47:49<5:24:39, 1498.40s/it]"
          ]
        },
        {
          "name": "stdout",
          "output_type": "stream",
          "text": [
            "Batch 11731/11732 - 0.029s/step - loss: 0.3166096886055353 - lr: 0.0003000000033701831\n",
            "train loss: 0.3201694978601348\n",
            "Epochs: 5 - Train error: 0.3201695\n",
            "\n"
          ]
        },
        {
          "name": "stderr",
          "output_type": "stream",
          "text": [
            "\n",
            "Processing financial instruments:   0%|          | 0/1 [00:00<?, ?it/s]\u001b[A\n",
            "Processing financial instruments: 100%|██████████| 1/1 [00:01<00:00,  1.37s/it]"
          ]
        },
        {
          "name": "stdout",
          "output_type": "stream",
          "text": [
            "Epoch 1/5\n"
          ]
        },
        {
          "name": "stderr",
          "output_type": "stream",
          "text": [
            "\n"
          ]
        },
        {
          "name": "stdout",
          "output_type": "stream",
          "text": [
            "Batch 5975/11952 - 0.026s/step - loss: 0.38646388431371115 - lr: 0.004885020986125125\n",
            "Batch 11951/11952 - 0.025s/step - loss: 0.37123582886438133 - lr: 0.0045512625490686945\n",
            "train loss: 0.37884985658904624\n",
            "Epoch 2/5\n",
            "Batch 5975/11952 - 0.025s/step - loss: 0.3743521134526711 - lr: 0.004031395286834308\n",
            "Batch 11951/11952 - 0.026s/step - loss: 0.371957745720739 - lr: 0.003376307429177668\n",
            "train loss: 0.37315492958670504\n",
            "Epoch 3/5\n",
            "Batch 5975/11952 - 0.025s/step - loss: 0.3728827910516564 - lr: 0.002650123539871696\n",
            "Batch 11951/11952 - 0.026s/step - loss: 0.3705008159742386 - lr: 0.0019239275576223287\n",
            "train loss: 0.3716918035129475\n",
            "Epoch 4/5\n",
            "Batch 5975/11952 - 0.027s/step - loss: 0.37013301925640646 - lr: 0.0012688046048770622\n",
            "Batch 11951/11952 - 0.028s/step - loss: 0.36924280726177544 - lr: 0.0007488826807606115\n",
            "train loss: 0.36968791325909095\n",
            "Epoch 5/5\n",
            "Batch 5975/11952 - 0.028s/step - loss: 0.36885110865102566 - lr: 0.00041505536571454914\n",
            "Batch 11951/11952 - 0.028s/step - loss: 0.3685009105099394 - lr: 0.0003000000032472553\n",
            "train loss: 0.3686760095804825\n",
            "Epochs: 5 - Train error: 0.3686760\n",
            "\n"
          ]
        },
        {
          "name": "stderr",
          "output_type": "stream",
          "text": [
            "Model training:  20%|██        | 3/15 [1:17:16<5:24:13, 1621.14s/it]\n",
            "Processing financial instruments:   0%|          | 0/1 [00:00<?, ?it/s]\u001b[A\n",
            "Processing financial instruments: 100%|██████████| 1/1 [00:01<00:00,  1.55s/it]"
          ]
        },
        {
          "name": "stdout",
          "output_type": "stream",
          "text": [
            "Epoch 1/5\n"
          ]
        },
        {
          "name": "stderr",
          "output_type": "stream",
          "text": [
            "\n"
          ]
        },
        {
          "name": "stdout",
          "output_type": "stream",
          "text": [
            "Batch 4486/8974 - 0.025s/step - loss: 0.2891658071566772 - lr: 0.004885033652321141\n",
            "Batch 8973/8974 - 0.025s/step - loss: 0.2792159377185058 - lr: 0.004551286644117994\n",
            "train loss: 0.2841908724375915\n",
            "Epoch 2/5\n",
            "Batch 4486/8974 - 0.025s/step - loss: 0.2810426351285521 - lr: 0.004031428452145586\n",
            "Batch 8973/8974 - 0.026s/step - loss: 0.2777685651500965 - lr: 0.00337634641829918\n",
            "train loss: 0.2794056001393243\n",
            "Epoch 3/5\n",
            "Batch 4486/8974 - 0.025s/step - loss: 0.28042529790990384 - lr: 0.0026501645362765752\n",
            "Batch 8973/8974 - 0.026s/step - loss: 0.2776352587900205 - lr: 0.0019239665482968273\n",
            "train loss: 0.2790302783499622\n",
            "Epoch 4/5\n",
            "Batch 4486/8974 - 0.026s/step - loss: 0.27878902939150113 - lr: 0.0012688377731422948\n",
            "Batch 8973/8974 - 0.026s/step - loss: 0.2771359436865813 - lr: 0.0007489067798756815\n",
            "train loss: 0.2779624865390412\n",
            "Epoch 5/5\n",
            "Batch 4486/8974 - 0.026s/step - loss: 0.2782927951281498 - lr: 0.00041506803669016533\n",
            "Batch 8973/8974 - 0.027s/step - loss: 0.2767758652670502 - lr: 0.00030000000576003955\n",
            "train loss: 0.2775343301976\n",
            "Epochs: 5 - Train error: 0.2775343\n",
            "\n"
          ]
        },
        {
          "name": "stderr",
          "output_type": "stream",
          "text": [
            "Model training:  27%|██▋       | 4/15 [1:38:49<4:33:25, 1491.42s/it]\n",
            "Processing financial instruments:   0%|          | 0/1 [00:00<?, ?it/s]\u001b[A\n",
            "Processing financial instruments: 100%|██████████| 1/1 [00:01<00:00,  1.69s/it]"
          ]
        },
        {
          "name": "stdout",
          "output_type": "stream",
          "text": [
            "Epoch 1/5\n"
          ]
        },
        {
          "name": "stderr",
          "output_type": "stream",
          "text": [
            "\n"
          ]
        },
        {
          "name": "stdout",
          "output_type": "stream",
          "text": [
            "Batch 4879/9760 - 0.025s/step - loss: 0.2670845197815234 - lr: 0.004885029558518217\n",
            "Batch 9759/9760 - 0.025s/step - loss: 0.3131737687302463 - lr: 0.004551278856351713\n",
            "train loss: 0.2901291442558849\n",
            "Epoch 2/5\n",
            "Batch 4879/9760 - 0.025s/step - loss: 0.2565120050694114 - lr: 0.004031417732736772\n",
            "Batch 9759/9760 - 0.025s/step - loss: 0.31271246192823204 - lr: 0.0033763338165382533\n",
            "train loss: 0.2846122334988217\n",
            "Epoch 3/5\n",
            "Batch 4879/9760 - 0.026s/step - loss: 0.2561252332103561 - lr: 0.0026501512857116973\n",
            "Batch 9759/9760 - 0.027s/step - loss: 0.3121813972910473 - lr: 0.001923953945985611\n",
            "train loss: 0.2841533152507017\n",
            "Epoch 4/5\n",
            "Batch 4879/9760 - 0.027s/step - loss: 0.2553199873886025 - lr: 0.0012688270526867674\n",
            "Batch 9759/9760 - 0.027s/step - loss: 0.311657408806524 - lr: 0.0007488989906687236\n",
            "train loss: 0.2834886980975633\n",
            "Epoch 5/5\n",
            "Batch 4879/9760 - 0.028s/step - loss: 0.2548484349894322 - lr: 0.0004150639411936247\n",
            "Batch 9759/9760 - 0.027s/step - loss: 0.31144098970494194 - lr: 0.0003000000048696524\n",
            "train loss: 0.2831447123471871\n",
            "Epochs: 5 - Train error: 0.2831447\n",
            "\n"
          ]
        },
        {
          "name": "stderr",
          "output_type": "stream",
          "text": [
            "Model training:  33%|███▎      | 5/15 [2:02:41<4:05:00, 1470.08s/it]\n",
            "Processing financial instruments:   0%|          | 0/1 [00:00<?, ?it/s]\u001b[A\n",
            "Processing financial instruments: 100%|██████████| 1/1 [00:01<00:00,  1.70s/it]"
          ]
        },
        {
          "name": "stdout",
          "output_type": "stream",
          "text": [
            "Epoch 1/5\n"
          ]
        },
        {
          "name": "stderr",
          "output_type": "stream",
          "text": [
            "\n"
          ]
        },
        {
          "name": "stdout",
          "output_type": "stream",
          "text": [
            "Batch 5873/11749 - 0.025s/step - loss: 0.3499338032712175 - lr: 0.004885041059391514\n",
            "Batch 11747/11749 - 0.025s/step - loss: 0.32388631066957163 - lr: 0.004551337665026222\n",
            "train loss: 0.33691005697039456\n",
            "Epoch 2/5\n",
            "Batch 5873/11749 - 0.025s/step - loss: 0.34086420423654695 - lr: 0.00403144784753318\n",
            "Batch 11747/11749 - 0.027s/step - loss: 0.32217559942100127 - lr: 0.0033764289795445396\n",
            "train loss: 0.3315199018287741\n",
            "Epoch 3/5\n",
            "Batch 5873/11749 - 0.030s/step - loss: 0.3408026418538151 - lr: 0.0026501885116025545\n",
            "Batch 11747/11749 - 0.029s/step - loss: 0.32201960358206166 - lr: 0.0019240491142897447\n",
            "train loss: 0.3314111227179384\n",
            "Epoch 4/5\n",
            "Batch 5873/11749 - 0.028s/step - loss: 0.340652322275266 - lr: 0.0012688571706470258\n",
            "Batch 11747/11749 - 0.028s/step - loss: 0.3217395038006572 - lr: 0.0007489578132131765\n",
            "train loss: 0.3311959130379616\n",
            "Epoch 5/5\n",
            "Batch 5873/11749 - 0.029s/step - loss: 0.34058130999210845 - lr: 0.0004150754471861382\n",
            "Batch 11747/11749 - 0.028s/step - loss: 0.3211682982320885 - lr: 0.00030000001344174904\n",
            "train loss: 0.33087480411209846\n",
            "Epochs: 5 - Train error: 0.3308748\n",
            "\n"
          ]
        },
        {
          "name": "stderr",
          "output_type": "stream",
          "text": [
            "Model training:  40%|████      | 6/15 [2:32:30<3:56:46, 1578.48s/it]\n",
            "Processing financial instruments:   0%|          | 0/1 [00:00<?, ?it/s]\u001b[A\n",
            "Processing financial instruments: 100%|██████████| 1/1 [00:01<00:00,  1.84s/it]"
          ]
        },
        {
          "name": "stdout",
          "output_type": "stream",
          "text": [
            "Epoch 1/5\n"
          ]
        },
        {
          "name": "stderr",
          "output_type": "stream",
          "text": [
            "\n"
          ]
        },
        {
          "name": "stdout",
          "output_type": "stream",
          "text": [
            "Batch 7442/14886 - 0.025s/step - loss: 0.309692275693762 - lr: 0.004885013462827235\n",
            "Batch 14885/14886 - 0.026s/step - loss: 0.302517743077493 - lr: 0.004551248237751825\n",
            "train loss: 0.3061050093856275\n",
            "Epoch 2/5\n",
            "Batch 7442/14886 - 0.027s/step - loss: 0.3033394504918593 - lr: 0.004031375588389866\n",
            "Batch 14885/14886 - 0.027s/step - loss: 0.30197566051669766 - lr: 0.003376284271826643\n",
            "train loss: 0.3026575555042785\n",
            "Epoch 3/5\n",
            "Batch 7442/14886 - 0.028s/step - loss: 0.3029466313606519 - lr: 0.0026500991904169525\n",
            "Batch 14885/14886 - 0.031s/step - loss: 0.3017944063836213 - lr: 0.0019239043995581506\n",
            "train loss: 0.3023705188721366\n",
            "Epoch 4/5\n",
            "Batch 7442/14886 - 0.029s/step - loss: 0.30274949300403947 - lr: 0.001268784905076122\n",
            "Batch 14885/14886 - 0.030s/step - loss: 0.3016806424746632 - lr: 0.000748868367576682\n",
            "train loss: 0.30221506773935136\n",
            "Epoch 5/5\n",
            "Batch 7442/14886 - 0.029s/step - loss: 0.30265108621669234 - lr: 0.0004150478402217997\n",
            "Batch 14885/14886 - 0.029s/step - loss: 0.3016043052308278 - lr: 0.00030000000209334863\n",
            "train loss: 0.3021276957237601\n",
            "Epochs: 5 - Train error: 0.3021277\n",
            "\n"
          ]
        },
        {
          "name": "stderr",
          "output_type": "stream",
          "text": [
            "Model training:  47%|████▋     | 7/15 [3:11:24<4:03:22, 1825.33s/it]\n",
            "Processing financial instruments:   0%|          | 0/1 [00:00<?, ?it/s]\u001b[A\n",
            "Processing financial instruments: 100%|██████████| 1/1 [00:01<00:00,  1.50s/it]"
          ]
        },
        {
          "name": "stdout",
          "output_type": "stream",
          "text": [
            "Epoch 1/5\n"
          ]
        },
        {
          "name": "stderr",
          "output_type": "stream",
          "text": [
            "\n"
          ]
        },
        {
          "name": "stdout",
          "output_type": "stream",
          "text": [
            "Batch 3729/7461 - 0.025s/step - loss: 0.30687639766370245 - lr: 0.004885074528190694\n",
            "Batch 7459/7461 - 0.025s/step - loss: 0.3588788990727838 - lr: 0.004551422557839561\n",
            "train loss: 0.33287764836824313\n",
            "Epoch 2/5\n",
            "Batch 3729/7461 - 0.025s/step - loss: 0.2893029698873583 - lr: 0.004031535491268518\n",
            "Batch 7459/7461 - 0.025s/step - loss: 0.356079082260153 - lr: 0.003376566358892338\n",
            "train loss: 0.32269102607375566\n",
            "Epoch 3/5\n",
            "Batch 3729/7461 - 0.025s/step - loss: 0.28790672376424814 - lr: 0.0026502968533460517\n",
            "Batch 7459/7461 - 0.026s/step - loss: 0.3548609179307285 - lr: 0.001924186505930495\n",
            "train loss: 0.3213838208474883\n",
            "Epoch 4/5\n",
            "Batch 3729/7461 - 0.026s/step - loss: 0.2868830561263352 - lr: 0.0012689448275350682\n",
            "Batch 7459/7461 - 0.026s/step - loss: 0.3540320788010775 - lr: 0.0007490427382098837\n",
            "train loss: 0.32045756746370635\n",
            "Epoch 5/5\n",
            "Batch 3729/7461 - 0.026s/step - loss: 0.2862525086747557 - lr: 0.00041510893726684055\n",
            "Batch 7459/7461 - 0.027s/step - loss: 0.35373440897067254 - lr: 0.0003000000333321643\n",
            "train loss: 0.3199934588227141\n",
            "Epochs: 5 - Train error: 0.3199935\n",
            "\n"
          ]
        },
        {
          "name": "stderr",
          "output_type": "stream",
          "text": [
            "Model training:  53%|█████▎    | 8/15 [3:29:20<3:05:07, 1586.82s/it]\n",
            "Processing financial instruments:   0%|          | 0/1 [00:00<?, ?it/s]\u001b[A\n",
            "Processing financial instruments: 100%|██████████| 1/1 [00:01<00:00,  1.21s/it]"
          ]
        },
        {
          "name": "stdout",
          "output_type": "stream",
          "text": [
            "Epoch 1/5\n"
          ]
        },
        {
          "name": "stderr",
          "output_type": "stream",
          "text": [
            "\n"
          ]
        },
        {
          "name": "stdout",
          "output_type": "stream",
          "text": [
            "Batch 3099/6201 - 0.026s/step - loss: 0.29823954798544067 - lr: 0.004885093159659209\n",
            "Batch 6199/6201 - 0.025s/step - loss: 0.27700724735495547 - lr: 0.004551469818224732\n",
            "train loss: 0.28762339767019807\n",
            "Epoch 2/5\n",
            "Batch 3099/6201 - 0.025s/step - loss: 0.2871947256983408 - lr: 0.004031584285051895\n",
            "Batch 6199/6201 - 0.026s/step - loss: 0.27539733114607273 - lr: 0.0033766428427237896\n",
            "train loss: 0.2812960284222068\n",
            "Epoch 3/5\n",
            "Batch 3099/6201 - 0.027s/step - loss: 0.2868192886999778 - lr: 0.0026503571718774805\n",
            "Batch 6199/6201 - 0.028s/step - loss: 0.27519017490993947 - lr: 0.0019242629989842043\n",
            "train loss: 0.28100473180495866\n",
            "Epoch 4/5\n",
            "Batch 3099/6201 - 0.028s/step - loss: 0.2865353962658123 - lr: 0.0012689936311856935\n",
            "Batch 6199/6201 - 0.028s/step - loss: 0.2746592846430928 - lr: 0.0007490900227392355\n",
            "train loss: 0.28059734045445256\n",
            "Epoch 5/5\n",
            "Batch 3099/6201 - 0.027s/step - loss: 0.28559001344646656 - lr: 0.0004151275847008995\n",
            "Batch 6199/6201 - 0.029s/step - loss: 0.2741368178327778 - lr: 0.00030000004825409\n",
            "train loss: 0.2798634156396222\n",
            "Epochs: 5 - Train error: 0.2798634\n",
            "\n"
          ]
        },
        {
          "name": "stderr",
          "output_type": "stream",
          "text": [
            "Model training:  60%|██████    | 9/15 [3:44:54<2:18:16, 1382.70s/it]\n",
            "Processing financial instruments:   0%|          | 0/1 [00:00<?, ?it/s]\u001b[A\n",
            "Processing financial instruments: 100%|██████████| 1/1 [00:01<00:00,  1.64s/it]"
          ]
        },
        {
          "name": "stdout",
          "output_type": "stream",
          "text": [
            "Epoch 1/5\n"
          ]
        },
        {
          "name": "stderr",
          "output_type": "stream",
          "text": [
            "\n"
          ]
        },
        {
          "name": "stdout",
          "output_type": "stream",
          "text": [
            "Batch 7853/15709 - 0.025s/step - loss: 0.2690333355694743 - lr: 0.004885026377791813\n",
            "Batch 15707/15709 - 0.026s/step - loss: 0.23755150126371385 - lr: 0.004551300427032632\n",
            "train loss: 0.25329241841659406\n",
            "Epoch 2/5\n",
            "Batch 7853/15709 - 0.026s/step - loss: 0.2628766501612671 - lr: 0.004031409404269185\n",
            "Batch 15707/15709 - 0.029s/step - loss: 0.23610236901928464 - lr: 0.003376368721282494\n",
            "train loss: 0.24948950959027588\n",
            "Epoch 3/5\n",
            "Batch 7853/15709 - 0.028s/step - loss: 0.25997465771502243 - lr: 0.0026501409906944714\n",
            "Batch 15707/15709 - 0.028s/step - loss: 0.23443674657913066 - lr: 0.0019239888523672432\n",
            "train loss: 0.24720570214707654\n",
            "Epoch 4/5\n",
            "Batch 7853/15709 - 0.028s/step - loss: 0.25949130231644535 - lr: 0.0012688187234665674\n",
            "Batch 15707/15709 - 0.027s/step - loss: 0.2338128712431939 - lr: 0.0007489205656363879\n",
            "train loss: 0.24665208677981962\n",
            "Epoch 5/5\n",
            "Batch 7853/15709 - 0.028s/step - loss: 0.2591115245303276 - lr: 0.0004150607592494674\n",
            "Batch 15707/15709 - 0.027s/step - loss: 0.23336286536722176 - lr: 0.00030000000751900736\n",
            "train loss: 0.24623719494877466\n",
            "Epochs: 5 - Train error: 0.2462372\n",
            "\n"
          ]
        },
        {
          "name": "stderr",
          "output_type": "stream",
          "text": [
            "Model training:  67%|██████▋   | 10/15 [4:24:36<2:20:57, 1691.45s/it]\n",
            "Processing financial instruments:   0%|          | 0/1 [00:00<?, ?it/s]\u001b[A\n",
            "Processing financial instruments: 100%|██████████| 1/1 [00:01<00:00,  1.39s/it]"
          ]
        },
        {
          "name": "stdout",
          "output_type": "stream",
          "text": [
            "Epoch 1/5\n"
          ]
        },
        {
          "name": "stderr",
          "output_type": "stream",
          "text": [
            "\n"
          ]
        },
        {
          "name": "stdout",
          "output_type": "stream",
          "text": [
            "Batch 7632/15267 - 0.025s/step - loss: 0.31563112300301 - lr: 0.004885027638922277\n",
            "Batch 15265/15267 - 0.027s/step - loss: 0.2613811307231307 - lr: 0.004551303625691472\n",
            "train loss: 0.2885061268630703\n",
            "Epoch 2/5\n",
            "Batch 7632/15267 - 0.025s/step - loss: 0.3088062164577701 - lr: 0.004031412706424166\n",
            "Batch 15265/15267 - 0.027s/step - loss: 0.2611553376458122 - lr: 0.0033763738972628905\n",
            "train loss: 0.28498077705179115\n",
            "Epoch 3/5\n",
            "Batch 7632/15267 - 0.026s/step - loss: 0.3084770597950147 - lr: 0.002650145072563004\n",
            "Batch 15265/15267 - 0.027s/step - loss: 0.26061111867728465 - lr: 0.0019239940286206088\n",
            "train loss: 0.2845440892361497\n",
            "Epoch 4/5\n",
            "Batch 7632/15267 - 0.026s/step - loss: 0.30822211748306777 - lr: 0.0012688220259136093\n",
            "Batch 15265/15267 - 0.025s/step - loss: 0.26031611555386014 - lr: 0.0007489237650098705\n",
            "train loss: 0.284269116518464\n",
            "Epoch 5/5\n",
            "Batch 7632/15267 - 0.025s/step - loss: 0.3080596490627694 - lr: 0.00041506202085249443\n",
            "Batch 15265/15267 - 0.026s/step - loss: 0.2600357311635443 - lr: 0.00030000000796068016\n",
            "train loss: 0.28404769011315684\n",
            "Epochs: 5 - Train error: 0.2840477\n",
            "\n"
          ]
        },
        {
          "name": "stderr",
          "output_type": "stream",
          "text": [
            "Model training:  73%|███████▎  | 11/15 [5:01:41<2:03:38, 1854.64s/it]\n",
            "Processing financial instruments:   0%|          | 0/1 [00:00<?, ?it/s]\u001b[A\n",
            "Processing financial instruments: 100%|██████████| 1/1 [00:01<00:00,  1.35s/it]"
          ]
        },
        {
          "name": "stdout",
          "output_type": "stream",
          "text": [
            "Epoch 1/5\n"
          ]
        },
        {
          "name": "stderr",
          "output_type": "stream",
          "text": [
            "\n"
          ]
        },
        {
          "name": "stdout",
          "output_type": "stream",
          "text": [
            "Batch 4748/9498 - 0.025s/step - loss: 0.298758879346733 - lr: 0.004885030847842491\n",
            "Batch 9497/9498 - 0.025s/step - loss: 0.26243291066021707 - lr: 0.004551281309064579\n",
            "train loss: 0.28059589500347504\n",
            "Epoch 2/5\n",
            "Batch 4748/9498 - 0.026s/step - loss: 0.287675234128302 - lr: 0.004031421108749606\n",
            "Batch 9497/9498 - 0.026s/step - loss: 0.2582351785434273 - lr: 0.0033763377853833973\n",
            "train loss: 0.2729552063358647\n",
            "Epoch 3/5\n",
            "Batch 4748/9498 - 0.026s/step - loss: 0.2859480672978354 - lr: 0.0026501554588909365\n",
            "Batch 9497/9498 - 0.027s/step - loss: 0.2571779398367373 - lr: 0.0019239579149990843\n",
            "train loss: 0.27156300356728635\n",
            "Epoch 4/5\n",
            "Batch 4748/9498 - 0.027s/step - loss: 0.2852205533783249 - lr: 0.0012688304290197825\n",
            "Batch 9497/9498 - 0.027s/step - loss: 0.2566100305883362 - lr: 0.0007489014438222807\n",
            "train loss: 0.27091529198333053\n",
            "Epoch 5/5\n",
            "Batch 4748/9498 - 0.027s/step - loss: 0.28474157457247773 - lr: 0.00041506523103596103\n",
            "Batch 9497/9498 - 0.027s/step - loss: 0.25643989831705044 - lr: 0.0003000000051420142\n",
            "train loss: 0.27059073644476406\n",
            "Epochs: 5 - Train error: 0.2705907\n",
            "\n"
          ]
        },
        {
          "name": "stderr",
          "output_type": "stream",
          "text": [
            "Model training:  80%|████████  | 12/15 [5:25:01<1:25:49, 1716.37s/it]\n",
            "Processing financial instruments:   0%|          | 0/1 [00:00<?, ?it/s]\u001b[A\n",
            "Processing financial instruments: 100%|██████████| 1/1 [00:01<00:00,  1.83s/it]"
          ]
        },
        {
          "name": "stdout",
          "output_type": "stream",
          "text": [
            "Epoch 1/5\n"
          ]
        },
        {
          "name": "stderr",
          "output_type": "stream",
          "text": [
            "\n"
          ]
        },
        {
          "name": "stdout",
          "output_type": "stream",
          "text": [
            "Batch 5935/11872 - 0.025s/step - loss: 0.2867386267421879 - lr: 0.0048850212433334955\n",
            "Batch 11871/11872 - 0.026s/step - loss: 0.3213488241261693 - lr: 0.004551263038352001\n",
            "train loss: 0.30404372543417857\n",
            "Epoch 2/5\n",
            "Batch 5935/11872 - 0.027s/step - loss: 0.28008235848529645 - lr: 0.004031395960298091\n",
            "Batch 11871/11872 - 0.028s/step - loss: 0.3206852236732441 - lr: 0.0033763082208985995\n",
            "train loss: 0.30038379107927027\n",
            "Epoch 3/5\n",
            "Batch 5935/11872 - 0.028s/step - loss: 0.27987154164258016 - lr: 0.0026501243723506145\n",
            "Batch 11871/11872 - 0.029s/step - loss: 0.32042831544624467 - lr: 0.0019239283493703988\n",
            "train loss: 0.3001499285444124\n",
            "Epoch 4/5\n",
            "Batch 5935/11872 - 0.029s/step - loss: 0.279725362377218 - lr: 0.001268805278392465\n",
            "Batch 11871/11872 - 0.030s/step - loss: 0.3202661556736792 - lr: 0.0007488831701149674\n",
            "train loss: 0.2999957590254486\n",
            "Epoch 5/5\n",
            "Batch 5935/11872 - 0.029s/step - loss: 0.27967441214697725 - lr: 0.00041505562300644494\n",
            "Batch 11871/11872 - 0.028s/step - loss: 0.320253412299893 - lr: 0.0003000000032911662\n",
            "train loss: 0.2999639122234351\n",
            "Epochs: 5 - Train error: 0.2999639\n",
            "\n"
          ]
        },
        {
          "name": "stderr",
          "output_type": "stream",
          "text": [
            "Model training:  87%|████████▋ | 13/15 [5:55:45<58:29, 1754.89s/it]  \n",
            "Processing financial instruments:   0%|          | 0/1 [00:00<?, ?it/s]\u001b[A\n",
            "Processing financial instruments: 100%|██████████| 1/1 [00:02<00:00,  2.01s/it]"
          ]
        },
        {
          "name": "stdout",
          "output_type": "stream",
          "text": [
            "Epoch 1/5\n"
          ]
        },
        {
          "name": "stderr",
          "output_type": "stream",
          "text": [
            "\n"
          ]
        },
        {
          "name": "stdout",
          "output_type": "stream",
          "text": [
            "Batch 4909/9821 - 0.025s/step - loss: 0.3435574341186013 - lr: 0.004885052492228355\n",
            "Batch 9819/9821 - 0.025s/step - loss: 0.3352148026093279 - lr: 0.004551366663597948\n",
            "train loss: 0.3393861183639646\n",
            "Epoch 2/5\n",
            "Batch 4909/9821 - 0.025s/step - loss: 0.33092286383511227 - lr: 0.004031477785289601\n",
            "Batch 9819/9821 - 0.027s/step - loss: 0.33471609859731116 - lr: 0.003376475906014859\n",
            "train loss: 0.33281948121621174\n",
            "Epoch 3/5\n",
            "Batch 4909/9821 - 0.027s/step - loss: 0.33052589399493515 - lr: 0.002650225519073148\n",
            "Batch 9819/9821 - 0.027s/step - loss: 0.334454612970227 - lr: 0.001924096044341967\n",
            "train loss: 0.3324902534825811\n",
            "Epoch 4/5\n",
            "Batch 4909/9821 - 0.027s/step - loss: 0.3302723383923609 - lr: 0.0012688871122358638\n",
            "Batch 9819/9821 - 0.027s/step - loss: 0.33428592537529767 - lr: 0.0007489868211624478\n",
            "train loss: 0.3322791318838293\n",
            "Epoch 5/5\n",
            "Batch 4909/9821 - 0.027s/step - loss: 0.3300137373002326 - lr: 0.0004150868862239608\n",
            "Batch 9819/9821 - 0.027s/step - loss: 0.33404037983369184 - lr: 0.00030000001923739084\n",
            "train loss: 0.33202705856696224\n",
            "Epochs: 5 - Train error: 0.3320271\n",
            "\n"
          ]
        },
        {
          "name": "stderr",
          "output_type": "stream",
          "text": [
            "Model training:  93%|█████████▎| 14/15 [6:19:56<27:43, 1663.02s/it]\n",
            "Processing financial instruments:   0%|          | 0/1 [00:00<?, ?it/s]\u001b[A\n",
            "Processing financial instruments: 100%|██████████| 1/1 [00:01<00:00,  1.36s/it]"
          ]
        },
        {
          "name": "stdout",
          "output_type": "stream",
          "text": [
            "Epoch 1/5\n"
          ]
        },
        {
          "name": "stderr",
          "output_type": "stream",
          "text": [
            "\n"
          ]
        },
        {
          "name": "stdout",
          "output_type": "stream",
          "text": [
            "Batch 7697/15397 - 0.025s/step - loss: 0.2586796625043844 - lr: 0.004885027260486038\n",
            "Batch 15395/15397 - 0.025s/step - loss: 0.2560098191995317 - lr: 0.004551302665846819\n",
            "train loss: 0.257344740851958\n",
            "Epoch 2/5\n",
            "Batch 7697/15397 - 0.027s/step - loss: 0.25207032812992775 - lr: 0.00403141171552201\n",
            "Batch 15395/15397 - 0.027s/step - loss: 0.25565437708271654 - lr: 0.0033763723440677564\n",
            "train loss: 0.2538623526063222\n",
            "Epoch 3/5\n",
            "Batch 7697/15397 - 0.027s/step - loss: 0.25183049354765263 - lr: 0.002650143847685874\n",
            "Batch 15395/15397 - 0.027s/step - loss: 0.25552829946926026 - lr: 0.0019239924753427446\n",
            "train loss: 0.25367939650845645\n",
            "Epoch 4/5\n",
            "Batch 7697/15397 - 0.026s/step - loss: 0.2517106723860966 - lr: 0.0012688210349229372\n",
            "Batch 15395/15397 - 0.027s/step - loss: 0.2554496123232736 - lr: 0.000748922804948627\n",
            "train loss: 0.2535801423546851\n",
            "Epoch 5/5\n",
            "Batch 7697/15397 - 0.026s/step - loss: 0.2516941564078906 - lr: 0.0004150616422730341\n",
            "Batch 15395/15397 - 0.026s/step - loss: 0.2554492306044806 - lr: 0.00030000000782682055\n",
            "train loss: 0.2535716935061856\n",
            "Epochs: 5 - Train error: 0.2535717\n",
            "\n"
          ]
        },
        {
          "name": "stderr",
          "output_type": "stream",
          "text": [
            "Model training: 100%|██████████| 15/15 [6:57:48<00:00, 1671.21s/it]\n"
          ]
        }
      ],
      "source": [
        "torch.manual_seed(11)\n",
        "checkpoint = torch.load(\"/content/content/MyDrive/Kaggle Competitions/Jane Street/model_initial_weights.pth\", weights_only=True, map_location=cfg[\"device\"])\n",
        "cfg[\"frac\"] = None\n",
        "# models = {}\n",
        "models = torch.load(\"/content/content/MyDrive/Kaggle Competitions/Jane Street/models.pth\", weights_only=True,map_location=cfg[\"device\"])\n",
        "\n",
        "for symbol in tqdm(range(len(models.keys()),39), desc=\"Model training\"):\n",
        "    data_loader = create_dataloader_v1(get_paths([symbol]), cfg)\n",
        "    model = JaneStreetModelV1(MODEL_CONFIG)\n",
        "    model.load_state_dict(checkpoint[\"model_state_dict\"])\n",
        "    model.to(cfg[\"device\"])\n",
        "    optimizer = torch.optim.AdamW(\n",
        "        model.parameters(), lr=5e-3, weight_decay=1e-4\n",
        "    )\n",
        "    num_epochs = 5\n",
        "    history = train_model(epochs=num_epochs, train_loader=data_loader, frac=1, min_lr=3e-4,\n",
        "                          freq=len(data_loader)//2, device=cfg[\"device\"])\n",
        "    models[symbol] = model.state_dict()\n",
        "    print(f\"\"\"Epochs: {num_epochs} - Train error: {history[\"loss\"][-1]:.7f}\"\"\")\n",
        "    print()\n",
        "    torch.save(models, \"/content/content/MyDrive/Kaggle Competitions/Jane Street/models.pth\")"
      ]
    }
  ],
  "metadata": {
    "colab": {
      "provenance": []
    },
    "kernelspec": {
      "display_name": "Python 3",
      "name": "python3"
    },
    "language_info": {
      "name": "python"
    }
  },
  "nbformat": 4,
  "nbformat_minor": 0
}