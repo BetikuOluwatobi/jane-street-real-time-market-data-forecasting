{
  "nbformat": 4,
  "nbformat_minor": 0,
  "metadata": {
    "colab": {
      "provenance": []
    },
    "kernelspec": {
      "name": "python3",
      "display_name": "Python 3"
    },
    "language_info": {
      "name": "python"
    }
  },
  "cells": [
    {
      "cell_type": "code",
      "execution_count": null,
      "metadata": {
        "colab": {
          "base_uri": "https://localhost:8080/"
        },
        "id": "CGu9CXMBYPHM",
        "outputId": "e53a12f0-e1ef-4cbe-d93c-6f92c4eb276c"
      },
      "outputs": [
        {
          "output_type": "stream",
          "name": "stdout",
          "text": [
            "Requirement already satisfied: kaggle in /usr/local/lib/python3.10/dist-packages (1.6.17)\n",
            "Requirement already satisfied: six>=1.10 in /usr/local/lib/python3.10/dist-packages (from kaggle) (1.17.0)\n",
            "Requirement already satisfied: certifi>=2023.7.22 in /usr/local/lib/python3.10/dist-packages (from kaggle) (2024.12.14)\n",
            "Requirement already satisfied: python-dateutil in /usr/local/lib/python3.10/dist-packages (from kaggle) (2.8.2)\n",
            "Requirement already satisfied: requests in /usr/local/lib/python3.10/dist-packages (from kaggle) (2.32.3)\n",
            "Requirement already satisfied: tqdm in /usr/local/lib/python3.10/dist-packages (from kaggle) (4.67.1)\n",
            "Requirement already satisfied: python-slugify in /usr/local/lib/python3.10/dist-packages (from kaggle) (8.0.4)\n",
            "Requirement already satisfied: urllib3 in /usr/local/lib/python3.10/dist-packages (from kaggle) (2.2.3)\n",
            "Requirement already satisfied: bleach in /usr/local/lib/python3.10/dist-packages (from kaggle) (6.2.0)\n",
            "Requirement already satisfied: webencodings in /usr/local/lib/python3.10/dist-packages (from bleach->kaggle) (0.5.1)\n",
            "Requirement already satisfied: text-unidecode>=1.3 in /usr/local/lib/python3.10/dist-packages (from python-slugify->kaggle) (1.3)\n",
            "Requirement already satisfied: charset-normalizer<4,>=2 in /usr/local/lib/python3.10/dist-packages (from requests->kaggle) (3.4.0)\n",
            "Requirement already satisfied: idna<4,>=2.5 in /usr/local/lib/python3.10/dist-packages (from requests->kaggle) (3.10)\n"
          ]
        }
      ],
      "source": [
        "!pip install kaggle"
      ]
    },
    {
      "cell_type": "code",
      "source": [
        "from google.colab import drive\n",
        "drive.mount('content')"
      ],
      "metadata": {
        "colab": {
          "base_uri": "https://localhost:8080/"
        },
        "id": "CL5ALD8gbcsH",
        "outputId": "235fa612-41b7-49ee-f74b-2e6c011aaa6d"
      },
      "execution_count": null,
      "outputs": [
        {
          "output_type": "stream",
          "name": "stdout",
          "text": [
            "Mounted at content\n"
          ]
        }
      ]
    },
    {
      "cell_type": "code",
      "source": [
        "!mkdir ~/.kaggle\n",
        "!cp \"/content/content/MyDrive/Kaggle Competitions/Jane Street/kaggle.json\" ~/.kaggle/\n",
        "!chmod 600 ~/.kaggle/kaggle.json"
      ],
      "metadata": {
        "id": "rKvvp2GigV-6"
      },
      "execution_count": null,
      "outputs": []
    },
    {
      "cell_type": "code",
      "source": [
        "!kaggle competitions download -c jane-street-real-time-market-data-forecasting"
      ],
      "metadata": {
        "colab": {
          "base_uri": "https://localhost:8080/"
        },
        "id": "I1f-o1FRhoda",
        "outputId": "e30ecfc1-cb29-4404-ab26-5cfdc752f03c"
      },
      "execution_count": null,
      "outputs": [
        {
          "output_type": "stream",
          "name": "stdout",
          "text": [
            "Downloading jane-street-real-time-market-data-forecasting.zip to /content\n",
            "100% 11.4G/11.5G [01:35<00:00, 222MB/s]\n",
            "100% 11.5G/11.5G [01:35<00:00, 129MB/s]\n"
          ]
        }
      ]
    },
    {
      "cell_type": "code",
      "source": [
        "!unzip /content/jane-street-real-time-market-data-forecasting.zip"
      ],
      "metadata": {
        "colab": {
          "base_uri": "https://localhost:8080/"
        },
        "id": "olBjPzVIazdB",
        "outputId": "593e85fb-b61a-49f0-c64c-8acde61e1662"
      },
      "execution_count": null,
      "outputs": [
        {
          "output_type": "stream",
          "name": "stdout",
          "text": [
            "Archive:  /content/jane-street-real-time-market-data-forecasting.zip\n",
            "  inflating: features.csv            \n",
            "  inflating: kaggle_evaluation/__init__.py  \n",
            "  inflating: kaggle_evaluation/core/__init__.py  \n",
            "  inflating: kaggle_evaluation/core/base_gateway.py  \n",
            "  inflating: kaggle_evaluation/core/generated/__init__.py  \n",
            "  inflating: kaggle_evaluation/core/generated/kaggle_evaluation_pb2.py  \n",
            "  inflating: kaggle_evaluation/core/generated/kaggle_evaluation_pb2_grpc.py  \n",
            "  inflating: kaggle_evaluation/core/kaggle_evaluation.proto  \n",
            "  inflating: kaggle_evaluation/core/relay.py  \n",
            "  inflating: kaggle_evaluation/core/templates.py  \n",
            "  inflating: kaggle_evaluation/jane_street_gateway.py  \n",
            "  inflating: kaggle_evaluation/jane_street_inference_server.py  \n",
            "  inflating: lags.parquet/date_id=0/part-0.parquet  \n",
            "  inflating: responders.csv          \n",
            "  inflating: sample_submission.csv   \n",
            "  inflating: test.parquet/date_id=0/part-0.parquet  \n",
            "  inflating: train.parquet/partition_id=0/part-0.parquet  \n",
            "  inflating: train.parquet/partition_id=1/part-0.parquet  \n",
            "  inflating: train.parquet/partition_id=2/part-0.parquet  \n",
            "  inflating: train.parquet/partition_id=3/part-0.parquet  \n",
            "  inflating: train.parquet/partition_id=4/part-0.parquet  \n",
            "  inflating: train.parquet/partition_id=5/part-0.parquet  \n",
            "  inflating: train.parquet/partition_id=6/part-0.parquet  \n",
            "  inflating: train.parquet/partition_id=7/part-0.parquet  \n",
            "  inflating: train.parquet/partition_id=8/part-0.parquet  \n",
            "  inflating: train.parquet/partition_id=9/part-0.parquet  \n"
          ]
        }
      ]
    },
    {
      "cell_type": "code",
      "source": [
        "import numpy as np # linear algebra\n",
        "import pandas as pd # data processing, CSV file I/O (e.g. pd.read_csv)\n",
        "import polars as pl\n",
        "import tqdm, pickle, time, logging, glob, pathlib\n",
        "import torch\n",
        "from torch.utils.data import  Dataset, DataLoader\n",
        "import json\n",
        "\n",
        "\n",
        "with open(\"/content/content/MyDrive/Kaggle Competitions/Jane Street/features_information.json\", mode=\"r\") as file:\n",
        "    feature_importance = json.load(file)\n",
        "\n",
        "with open('/content/content/MyDrive/Kaggle Competitions/Jane Street/nan_means.p', 'rb') as fp:\n",
        "    nan_means = pickle.load(fp)\n",
        "\n",
        "path_name = \"/content/train.parquet/partition_id=*/part-0.parquet\"\n",
        "symbols = [0, 1, 2, 3, 4, 5, 6, 7, 8, 9, 10, 11, 12, 13, 14, 15, 16, 17, 18, 19, 20, 21, 22, 23, 24, 25, 26, 27, 28, 29,\n",
        "           30, 31, 32, 33, 34, 35, 36, 37, 38]\n",
        "top_k_comb = sorted(feature_importance.items(), key=lambda x: (x[-1], x[0]), reverse=False)[:10] #best feature combination\n",
        "cols = top_k_comb[0][0].split(\"/\")"
      ],
      "metadata": {
        "id": "J891D7VSlMZ7"
      },
      "execution_count": null,
      "outputs": []
    },
    {
      "cell_type": "code",
      "source": [
        "cfg = {\n",
        "    \"path_name\": path_name,\n",
        "    \"cols\":cols,\n",
        "    \"symbols\":symbols,\n",
        "    \"window\": 4\n",
        "}"
      ],
      "metadata": {
        "id": "CI9EpCNv1T3X"
      },
      "execution_count": null,
      "outputs": []
    },
    {
      "cell_type": "code",
      "source": [
        "def numpy_fillna(arr, fillna_dict, cols):\n",
        "    arr_copy = arr.copy()  # Avoid modifying the original array\n",
        "    for idx, col in enumerate(cols):\n",
        "        arr_copy[:, idx] = np.nan_to_num(arr_copy[:, idx], nan=fillna_dict[col])\n",
        "    return arr_copy\n",
        "\n",
        "def rolling_window(data, window):\n",
        "    size = data.shape[0] - window + 1\n",
        "    emb = data.shape[1]\n",
        "    inputs = np.lib.stride_tricks.sliding_window_view(data,\n",
        "                                                      (window, emb),\n",
        "                                                      axis=(0, 1)).reshape(size, window, emb)\n",
        "\n",
        "    return inputs\n",
        "\n",
        "def get_numpy_from_parquet(path, cols, instrument=2):\n",
        "    parquet_file = pl.scan_parquet(path)\n",
        "    instrument_data = parquet_file.filter(pl.col(\"symbol_id\") == instrument).collect().sort([\"date_id\", \"time_id\"])\n",
        "    return instrument_data.select(cols+['responder_6']).to_numpy()\n",
        "\n",
        "def get_financial_instrument(path_name, cols, instrument):\n",
        "    data = np.empty((0, len(cols)+1), dtype=np.float32)  # Start with an empty array with the correct number of columns\n",
        "    for path in glob.glob(path_name):\n",
        "        array_to_concat = get_numpy_from_parquet(path=path, cols=cols, instrument=instrument)\n",
        "        data = np.vstack((data, array_to_concat))\n",
        "    return data\n",
        "\n",
        "def save_symbol_data(path_name, cols, symbols, fillna, window=4):\n",
        "    for symbol in tqdm.tqdm(symbols, desc=\"Saving financial instruments\"):\n",
        "        parquet_np = get_financial_instrument(path_name, cols, instrument=symbol)\n",
        "        windowed_data, targets = parquet_np[:, :-1], parquet_np[:, -1]\n",
        "        windowed_data = numpy_fillna(windowed_data, fillna[symbol], cols=cols)\n",
        "        data = rolling_window(windowed_data, window=window)\n",
        "        targets = targets[window-1:]\n",
        "        # Use '/kaggle/working' for saving output files\n",
        "\n",
        "        path = pathlib.Path(f\"/content/content/MyDrive/Kaggle Competitions/Jane Street/train.npy/symbol={symbol}/window={window}\")\n",
        "        path.mkdir(parents=True, exist_ok=True)\n",
        "        np.savez_compressed(path/\"part-0.npz\", data=data, target=targets)\n"
      ],
      "metadata": {
        "id": "kBup-gUC1YsC"
      },
      "execution_count": null,
      "outputs": []
    },
    {
      "cell_type": "code",
      "source": [
        "save_symbol_data(path_name=cfg[\"path_name\"], cols=cfg[\"cols\"], fillna=nan_means, symbols=cfg[\"symbols\"], window=cfg[\"window\"])"
      ],
      "metadata": {
        "id": "ObS6PL0X1icD",
        "colab": {
          "base_uri": "https://localhost:8080/"
        },
        "outputId": "f7e1fbfc-25d6-4886-c5b3-bb7d8f61e2df"
      },
      "execution_count": null,
      "outputs": [
        {
          "output_type": "stream",
          "name": "stderr",
          "text": [
            "Saving financial instruments: 100%|██████████| 39/39 [55:45<00:00, 85.78s/it]\n"
          ]
        }
      ]
    }
  ]
}